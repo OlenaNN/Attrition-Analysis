{
 "cells": [
  {
   "cell_type": "code",
   "execution_count": 1,
   "metadata": {},
   "outputs": [
    {
     "data": {
      "text/html": [
       "        <script type=\"text/javascript\">\n",
       "        window.PlotlyConfig = {MathJaxConfig: 'local'};\n",
       "        if (window.MathJax) {MathJax.Hub.Config({SVG: {font: \"STIX-Web\"}});}\n",
       "        if (typeof require !== 'undefined') {\n",
       "        require.undef(\"plotly\");\n",
       "        requirejs.config({\n",
       "            paths: {\n",
       "                'plotly': ['https://cdn.plot.ly/plotly-latest.min']\n",
       "            }\n",
       "        });\n",
       "        require(['plotly'], function(Plotly) {\n",
       "            window._Plotly = Plotly;\n",
       "        });\n",
       "        }\n",
       "        </script>\n",
       "        "
      ]
     },
     "metadata": {},
     "output_type": "display_data"
    }
   ],
   "source": [
    "import numpy as np # linear algebra\n",
    "import pandas as pd # data processing, CSV file I/O (e.g. pd.read_csv)\n",
    "import seaborn as sns\n",
    "import matplotlib.pyplot as plt\n",
    "%matplotlib inline\n",
    "\n",
    "# Import statements required for Plotly \n",
    "import plotly.offline as py\n",
    "py.init_notebook_mode(connected=True)\n",
    "import plotly.graph_objs as go\n",
    "import plotly.tools as tls\n",
    "\n",
    "\n",
    "from sklearn.ensemble import RandomForestClassifier, GradientBoostingClassifier\n",
    "from sklearn.linear_model import LogisticRegression\n",
    "from sklearn.metrics import (accuracy_score, log_loss, classification_report)\n",
    "#from imblearn.over_sampling import SMOTE\n",
    "import xgboost\n",
    "\n",
    "# Import and suppress warnings\n",
    "import warnings\n",
    "warnings.filterwarnings('ignore')"
   ]
  },
  {
   "cell_type": "code",
   "execution_count": 2,
   "metadata": {},
   "outputs": [
    {
     "data": {
      "text/html": [
       "<div>\n",
       "<style scoped>\n",
       "    .dataframe tbody tr th:only-of-type {\n",
       "        vertical-align: middle;\n",
       "    }\n",
       "\n",
       "    .dataframe tbody tr th {\n",
       "        vertical-align: top;\n",
       "    }\n",
       "\n",
       "    .dataframe thead th {\n",
       "        text-align: right;\n",
       "    }\n",
       "</style>\n",
       "<table border=\"1\" class=\"dataframe\">\n",
       "  <thead>\n",
       "    <tr style=\"text-align: right;\">\n",
       "      <th></th>\n",
       "      <th>Age</th>\n",
       "      <th>Attrition</th>\n",
       "      <th>BusinessTravel</th>\n",
       "      <th>DailyRate</th>\n",
       "      <th>Department</th>\n",
       "      <th>DistanceFromHome</th>\n",
       "      <th>Education</th>\n",
       "      <th>EducationField</th>\n",
       "      <th>EmployeeCount</th>\n",
       "      <th>EmployeeNumber</th>\n",
       "      <th>...</th>\n",
       "      <th>RelationshipSatisfaction</th>\n",
       "      <th>StandardHours</th>\n",
       "      <th>StockOptionLevel</th>\n",
       "      <th>TotalWorkingYears</th>\n",
       "      <th>TrainingTimesLastYear</th>\n",
       "      <th>WorkLifeBalance</th>\n",
       "      <th>YearsAtCompany</th>\n",
       "      <th>YearsInCurrentRole</th>\n",
       "      <th>YearsSinceLastPromotion</th>\n",
       "      <th>YearsWithCurrManager</th>\n",
       "    </tr>\n",
       "  </thead>\n",
       "  <tbody>\n",
       "    <tr>\n",
       "      <th>0</th>\n",
       "      <td>41</td>\n",
       "      <td>Yes</td>\n",
       "      <td>Travel_Rarely</td>\n",
       "      <td>1102</td>\n",
       "      <td>Sales</td>\n",
       "      <td>1</td>\n",
       "      <td>2</td>\n",
       "      <td>Life Sciences</td>\n",
       "      <td>1</td>\n",
       "      <td>1</td>\n",
       "      <td>...</td>\n",
       "      <td>1</td>\n",
       "      <td>80</td>\n",
       "      <td>0</td>\n",
       "      <td>8</td>\n",
       "      <td>0</td>\n",
       "      <td>1</td>\n",
       "      <td>6</td>\n",
       "      <td>4</td>\n",
       "      <td>0</td>\n",
       "      <td>5</td>\n",
       "    </tr>\n",
       "    <tr>\n",
       "      <th>1</th>\n",
       "      <td>49</td>\n",
       "      <td>No</td>\n",
       "      <td>Travel_Frequently</td>\n",
       "      <td>279</td>\n",
       "      <td>Research &amp; Development</td>\n",
       "      <td>8</td>\n",
       "      <td>1</td>\n",
       "      <td>Life Sciences</td>\n",
       "      <td>1</td>\n",
       "      <td>2</td>\n",
       "      <td>...</td>\n",
       "      <td>4</td>\n",
       "      <td>80</td>\n",
       "      <td>1</td>\n",
       "      <td>10</td>\n",
       "      <td>3</td>\n",
       "      <td>3</td>\n",
       "      <td>10</td>\n",
       "      <td>7</td>\n",
       "      <td>1</td>\n",
       "      <td>7</td>\n",
       "    </tr>\n",
       "    <tr>\n",
       "      <th>2</th>\n",
       "      <td>37</td>\n",
       "      <td>Yes</td>\n",
       "      <td>Travel_Rarely</td>\n",
       "      <td>1373</td>\n",
       "      <td>Research &amp; Development</td>\n",
       "      <td>2</td>\n",
       "      <td>2</td>\n",
       "      <td>Other</td>\n",
       "      <td>1</td>\n",
       "      <td>4</td>\n",
       "      <td>...</td>\n",
       "      <td>2</td>\n",
       "      <td>80</td>\n",
       "      <td>0</td>\n",
       "      <td>7</td>\n",
       "      <td>3</td>\n",
       "      <td>3</td>\n",
       "      <td>0</td>\n",
       "      <td>0</td>\n",
       "      <td>0</td>\n",
       "      <td>0</td>\n",
       "    </tr>\n",
       "    <tr>\n",
       "      <th>3</th>\n",
       "      <td>33</td>\n",
       "      <td>No</td>\n",
       "      <td>Travel_Frequently</td>\n",
       "      <td>1392</td>\n",
       "      <td>Research &amp; Development</td>\n",
       "      <td>3</td>\n",
       "      <td>4</td>\n",
       "      <td>Life Sciences</td>\n",
       "      <td>1</td>\n",
       "      <td>5</td>\n",
       "      <td>...</td>\n",
       "      <td>3</td>\n",
       "      <td>80</td>\n",
       "      <td>0</td>\n",
       "      <td>8</td>\n",
       "      <td>3</td>\n",
       "      <td>3</td>\n",
       "      <td>8</td>\n",
       "      <td>7</td>\n",
       "      <td>3</td>\n",
       "      <td>0</td>\n",
       "    </tr>\n",
       "    <tr>\n",
       "      <th>4</th>\n",
       "      <td>27</td>\n",
       "      <td>No</td>\n",
       "      <td>Travel_Rarely</td>\n",
       "      <td>591</td>\n",
       "      <td>Research &amp; Development</td>\n",
       "      <td>2</td>\n",
       "      <td>1</td>\n",
       "      <td>Medical</td>\n",
       "      <td>1</td>\n",
       "      <td>7</td>\n",
       "      <td>...</td>\n",
       "      <td>4</td>\n",
       "      <td>80</td>\n",
       "      <td>1</td>\n",
       "      <td>6</td>\n",
       "      <td>3</td>\n",
       "      <td>3</td>\n",
       "      <td>2</td>\n",
       "      <td>2</td>\n",
       "      <td>2</td>\n",
       "      <td>2</td>\n",
       "    </tr>\n",
       "  </tbody>\n",
       "</table>\n",
       "<p>5 rows × 35 columns</p>\n",
       "</div>"
      ],
      "text/plain": [
       "   Age Attrition     BusinessTravel  DailyRate              Department  \\\n",
       "0   41       Yes      Travel_Rarely       1102                   Sales   \n",
       "1   49        No  Travel_Frequently        279  Research & Development   \n",
       "2   37       Yes      Travel_Rarely       1373  Research & Development   \n",
       "3   33        No  Travel_Frequently       1392  Research & Development   \n",
       "4   27        No      Travel_Rarely        591  Research & Development   \n",
       "\n",
       "   DistanceFromHome  Education EducationField  EmployeeCount  EmployeeNumber  \\\n",
       "0                 1          2  Life Sciences              1               1   \n",
       "1                 8          1  Life Sciences              1               2   \n",
       "2                 2          2          Other              1               4   \n",
       "3                 3          4  Life Sciences              1               5   \n",
       "4                 2          1        Medical              1               7   \n",
       "\n",
       "   ...  RelationshipSatisfaction StandardHours  StockOptionLevel  \\\n",
       "0  ...                         1            80                 0   \n",
       "1  ...                         4            80                 1   \n",
       "2  ...                         2            80                 0   \n",
       "3  ...                         3            80                 0   \n",
       "4  ...                         4            80                 1   \n",
       "\n",
       "   TotalWorkingYears  TrainingTimesLastYear WorkLifeBalance  YearsAtCompany  \\\n",
       "0                  8                      0               1               6   \n",
       "1                 10                      3               3              10   \n",
       "2                  7                      3               3               0   \n",
       "3                  8                      3               3               8   \n",
       "4                  6                      3               3               2   \n",
       "\n",
       "  YearsInCurrentRole  YearsSinceLastPromotion  YearsWithCurrManager  \n",
       "0                  4                        0                     5  \n",
       "1                  7                        1                     7  \n",
       "2                  0                        0                     0  \n",
       "3                  7                        3                     0  \n",
       "4                  2                        2                     2  \n",
       "\n",
       "[5 rows x 35 columns]"
      ]
     },
     "execution_count": 2,
     "metadata": {},
     "output_type": "execute_result"
    }
   ],
   "source": [
    "attrition = pd.read_csv('input/WA_Fn-UseC_-HR-Employee-Attrition.csv')\n",
    "attrition.head()"
   ]
  },
  {
   "cell_type": "markdown",
   "metadata": {},
   "source": [
    "As evinced from the dataset, our target column with which we can point our model to train on would be the **\"Attrition\"** column.\n",
    "\n",
    "Furthermore, we see that we have a mix of numerical and categorical data types. Let us quickly carry our some simple data completeness checks to see if there are nulls or infinite values in the data\n",
    "\n",
    "## Data quality checks\n",
    "\n",
    "To look for any null values, we can just invoke the isnull call as follows"
   ]
  },
  {
   "cell_type": "code",
   "execution_count": 3,
   "metadata": {},
   "outputs": [
    {
     "data": {
      "text/plain": [
       "Age                         False\n",
       "Attrition                   False\n",
       "BusinessTravel              False\n",
       "DailyRate                   False\n",
       "Department                  False\n",
       "DistanceFromHome            False\n",
       "Education                   False\n",
       "EducationField              False\n",
       "EmployeeCount               False\n",
       "EmployeeNumber              False\n",
       "EnvironmentSatisfaction     False\n",
       "Gender                      False\n",
       "HourlyRate                  False\n",
       "JobInvolvement              False\n",
       "JobLevel                    False\n",
       "JobRole                     False\n",
       "JobSatisfaction             False\n",
       "MaritalStatus               False\n",
       "MonthlyIncome               False\n",
       "MonthlyRate                 False\n",
       "NumCompaniesWorked          False\n",
       "Over18                      False\n",
       "OverTime                    False\n",
       "PercentSalaryHike           False\n",
       "PerformanceRating           False\n",
       "RelationshipSatisfaction    False\n",
       "StandardHours               False\n",
       "StockOptionLevel            False\n",
       "TotalWorkingYears           False\n",
       "TrainingTimesLastYear       False\n",
       "WorkLifeBalance             False\n",
       "YearsAtCompany              False\n",
       "YearsInCurrentRole          False\n",
       "YearsSinceLastPromotion     False\n",
       "YearsWithCurrManager        False\n",
       "dtype: bool"
      ]
     },
     "metadata": {},
     "output_type": "display_data"
    }
   ],
   "source": [
    "# Looking for NaN\n",
    "display(attrition.isnull().any())"
   ]
  },
  {
   "cell_type": "code",
   "execution_count": 4,
   "metadata": {},
   "outputs": [
    {
     "data": {
      "text/html": [
       "<div>\n",
       "<style scoped>\n",
       "    .dataframe tbody tr th:only-of-type {\n",
       "        vertical-align: middle;\n",
       "    }\n",
       "\n",
       "    .dataframe tbody tr th {\n",
       "        vertical-align: top;\n",
       "    }\n",
       "\n",
       "    .dataframe thead th {\n",
       "        text-align: right;\n",
       "    }\n",
       "</style>\n",
       "<table border=\"1\" class=\"dataframe\">\n",
       "  <thead>\n",
       "    <tr style=\"text-align: right;\">\n",
       "      <th></th>\n",
       "      <th>Age</th>\n",
       "      <th>Attrition</th>\n",
       "      <th>BusinessTravel</th>\n",
       "      <th>DailyRate</th>\n",
       "      <th>Department</th>\n",
       "      <th>DistanceFromHome</th>\n",
       "      <th>Education</th>\n",
       "      <th>EducationField</th>\n",
       "      <th>EmployeeCount</th>\n",
       "      <th>EmployeeNumber</th>\n",
       "      <th>EnvironmentSatisfaction</th>\n",
       "      <th>Gender</th>\n",
       "      <th>HourlyRate</th>\n",
       "      <th>JobInvolvement</th>\n",
       "      <th>JobLevel</th>\n",
       "      <th>JobRole</th>\n",
       "      <th>JobSatisfaction</th>\n",
       "      <th>MaritalStatus</th>\n",
       "      <th>MonthlyIncome</th>\n",
       "      <th>MonthlyRate</th>\n",
       "      <th>NumCompaniesWorked</th>\n",
       "      <th>Over18</th>\n",
       "      <th>OverTime</th>\n",
       "      <th>PercentSalaryHike</th>\n",
       "      <th>PerformanceRating</th>\n",
       "      <th>RelationshipSatisfaction</th>\n",
       "      <th>StandardHours</th>\n",
       "      <th>StockOptionLevel</th>\n",
       "      <th>TotalWorkingYears</th>\n",
       "      <th>TrainingTimesLastYear</th>\n",
       "      <th>WorkLifeBalance</th>\n",
       "      <th>YearsAtCompany</th>\n",
       "      <th>YearsInCurrentRole</th>\n",
       "      <th>YearsSinceLastPromotion</th>\n",
       "      <th>YearsWithCurrManager</th>\n",
       "    </tr>\n",
       "  </thead>\n",
       "  <tbody>\n",
       "    <tr>\n",
       "      <th>observations(rows)</th>\n",
       "      <td>1470</td>\n",
       "      <td>1470</td>\n",
       "      <td>1470</td>\n",
       "      <td>1470</td>\n",
       "      <td>1470</td>\n",
       "      <td>1470</td>\n",
       "      <td>1470</td>\n",
       "      <td>1470</td>\n",
       "      <td>1470</td>\n",
       "      <td>1470</td>\n",
       "      <td>1470</td>\n",
       "      <td>1470</td>\n",
       "      <td>1470</td>\n",
       "      <td>1470</td>\n",
       "      <td>1470</td>\n",
       "      <td>1470</td>\n",
       "      <td>1470</td>\n",
       "      <td>1470</td>\n",
       "      <td>1470</td>\n",
       "      <td>1470</td>\n",
       "      <td>1470</td>\n",
       "      <td>1470</td>\n",
       "      <td>1470</td>\n",
       "      <td>1470</td>\n",
       "      <td>1470</td>\n",
       "      <td>1470</td>\n",
       "      <td>1470</td>\n",
       "      <td>1470</td>\n",
       "      <td>1470</td>\n",
       "      <td>1470</td>\n",
       "      <td>1470</td>\n",
       "      <td>1470</td>\n",
       "      <td>1470</td>\n",
       "      <td>1470</td>\n",
       "      <td>1470</td>\n",
       "    </tr>\n",
       "    <tr>\n",
       "      <th>percent missing</th>\n",
       "      <td>0.0% (0/1470)</td>\n",
       "      <td>0.0% (0/1470)</td>\n",
       "      <td>0.0% (0/1470)</td>\n",
       "      <td>0.0% (0/1470)</td>\n",
       "      <td>0.0% (0/1470)</td>\n",
       "      <td>0.0% (0/1470)</td>\n",
       "      <td>0.0% (0/1470)</td>\n",
       "      <td>0.0% (0/1470)</td>\n",
       "      <td>0.0% (0/1470)</td>\n",
       "      <td>0.0% (0/1470)</td>\n",
       "      <td>0.0% (0/1470)</td>\n",
       "      <td>0.0% (0/1470)</td>\n",
       "      <td>0.0% (0/1470)</td>\n",
       "      <td>0.0% (0/1470)</td>\n",
       "      <td>0.0% (0/1470)</td>\n",
       "      <td>0.0% (0/1470)</td>\n",
       "      <td>0.0% (0/1470)</td>\n",
       "      <td>0.0% (0/1470)</td>\n",
       "      <td>0.0% (0/1470)</td>\n",
       "      <td>0.0% (0/1470)</td>\n",
       "      <td>0.0% (0/1470)</td>\n",
       "      <td>0.0% (0/1470)</td>\n",
       "      <td>0.0% (0/1470)</td>\n",
       "      <td>0.0% (0/1470)</td>\n",
       "      <td>0.0% (0/1470)</td>\n",
       "      <td>0.0% (0/1470)</td>\n",
       "      <td>0.0% (0/1470)</td>\n",
       "      <td>0.0% (0/1470)</td>\n",
       "      <td>0.0% (0/1470)</td>\n",
       "      <td>0.0% (0/1470)</td>\n",
       "      <td>0.0% (0/1470)</td>\n",
       "      <td>0.0% (0/1470)</td>\n",
       "      <td>0.0% (0/1470)</td>\n",
       "      <td>0.0% (0/1470)</td>\n",
       "      <td>0.0% (0/1470)</td>\n",
       "    </tr>\n",
       "    <tr>\n",
       "      <th>dtype</th>\n",
       "      <td>numerical</td>\n",
       "      <td>categorical</td>\n",
       "      <td>categorical</td>\n",
       "      <td>numerical</td>\n",
       "      <td>categorical</td>\n",
       "      <td>numerical</td>\n",
       "      <td>numerical</td>\n",
       "      <td>categorical</td>\n",
       "      <td>numerical</td>\n",
       "      <td>numerical</td>\n",
       "      <td>numerical</td>\n",
       "      <td>categorical</td>\n",
       "      <td>numerical</td>\n",
       "      <td>numerical</td>\n",
       "      <td>numerical</td>\n",
       "      <td>categorical</td>\n",
       "      <td>numerical</td>\n",
       "      <td>categorical</td>\n",
       "      <td>numerical</td>\n",
       "      <td>numerical</td>\n",
       "      <td>numerical</td>\n",
       "      <td>categorical</td>\n",
       "      <td>categorical</td>\n",
       "      <td>numerical</td>\n",
       "      <td>numerical</td>\n",
       "      <td>numerical</td>\n",
       "      <td>numerical</td>\n",
       "      <td>numerical</td>\n",
       "      <td>numerical</td>\n",
       "      <td>numerical</td>\n",
       "      <td>numerical</td>\n",
       "      <td>numerical</td>\n",
       "      <td>numerical</td>\n",
       "      <td>numerical</td>\n",
       "      <td>numerical</td>\n",
       "    </tr>\n",
       "    <tr>\n",
       "      <th>range</th>\n",
       "      <td>18-60</td>\n",
       "      <td>2 labels</td>\n",
       "      <td>3 labels</td>\n",
       "      <td>102-1499</td>\n",
       "      <td>3 labels</td>\n",
       "      <td>1-29</td>\n",
       "      <td>1-5</td>\n",
       "      <td>6 labels</td>\n",
       "      <td>1-1</td>\n",
       "      <td>1-2068</td>\n",
       "      <td>1-4</td>\n",
       "      <td>2 labels</td>\n",
       "      <td>30-100</td>\n",
       "      <td>1-4</td>\n",
       "      <td>1-5</td>\n",
       "      <td>9 labels</td>\n",
       "      <td>1-4</td>\n",
       "      <td>3 labels</td>\n",
       "      <td>1009-19999</td>\n",
       "      <td>2094-26999</td>\n",
       "      <td>0-9</td>\n",
       "      <td>1 labels</td>\n",
       "      <td>2 labels</td>\n",
       "      <td>11-25</td>\n",
       "      <td>3-4</td>\n",
       "      <td>1-4</td>\n",
       "      <td>80-80</td>\n",
       "      <td>0-3</td>\n",
       "      <td>0-40</td>\n",
       "      <td>0-6</td>\n",
       "      <td>1-4</td>\n",
       "      <td>0-40</td>\n",
       "      <td>0-18</td>\n",
       "      <td>0-15</td>\n",
       "      <td>0-17</td>\n",
       "    </tr>\n",
       "  </tbody>\n",
       "</table>\n",
       "</div>"
      ],
      "text/plain": [
       "                              Age      Attrition BusinessTravel  \\\n",
       "observations(rows)           1470           1470           1470   \n",
       "percent missing     0.0% (0/1470)  0.0% (0/1470)  0.0% (0/1470)   \n",
       "dtype                   numerical    categorical    categorical   \n",
       "range                       18-60       2 labels       3 labels   \n",
       "\n",
       "                        DailyRate     Department DistanceFromHome  \\\n",
       "observations(rows)           1470           1470             1470   \n",
       "percent missing     0.0% (0/1470)  0.0% (0/1470)    0.0% (0/1470)   \n",
       "dtype                   numerical    categorical        numerical   \n",
       "range                    102-1499       3 labels             1-29   \n",
       "\n",
       "                        Education EducationField  EmployeeCount  \\\n",
       "observations(rows)           1470           1470           1470   \n",
       "percent missing     0.0% (0/1470)  0.0% (0/1470)  0.0% (0/1470)   \n",
       "dtype                   numerical    categorical      numerical   \n",
       "range                         1-5       6 labels            1-1   \n",
       "\n",
       "                   EmployeeNumber EnvironmentSatisfaction         Gender  \\\n",
       "observations(rows)           1470                    1470           1470   \n",
       "percent missing     0.0% (0/1470)           0.0% (0/1470)  0.0% (0/1470)   \n",
       "dtype                   numerical               numerical    categorical   \n",
       "range                      1-2068                     1-4       2 labels   \n",
       "\n",
       "                       HourlyRate JobInvolvement       JobLevel  \\\n",
       "observations(rows)           1470           1470           1470   \n",
       "percent missing     0.0% (0/1470)  0.0% (0/1470)  0.0% (0/1470)   \n",
       "dtype                   numerical      numerical      numerical   \n",
       "range                      30-100            1-4            1-5   \n",
       "\n",
       "                          JobRole JobSatisfaction  MaritalStatus  \\\n",
       "observations(rows)           1470            1470           1470   \n",
       "percent missing     0.0% (0/1470)   0.0% (0/1470)  0.0% (0/1470)   \n",
       "dtype                 categorical       numerical    categorical   \n",
       "range                    9 labels             1-4       3 labels   \n",
       "\n",
       "                    MonthlyIncome    MonthlyRate NumCompaniesWorked  \\\n",
       "observations(rows)           1470           1470               1470   \n",
       "percent missing     0.0% (0/1470)  0.0% (0/1470)      0.0% (0/1470)   \n",
       "dtype                   numerical      numerical          numerical   \n",
       "range                  1009-19999     2094-26999                0-9   \n",
       "\n",
       "                           Over18       OverTime PercentSalaryHike  \\\n",
       "observations(rows)           1470           1470              1470   \n",
       "percent missing     0.0% (0/1470)  0.0% (0/1470)     0.0% (0/1470)   \n",
       "dtype                 categorical    categorical         numerical   \n",
       "range                    1 labels       2 labels             11-25   \n",
       "\n",
       "                   PerformanceRating RelationshipSatisfaction  StandardHours  \\\n",
       "observations(rows)              1470                     1470           1470   \n",
       "percent missing        0.0% (0/1470)            0.0% (0/1470)  0.0% (0/1470)   \n",
       "dtype                      numerical                numerical      numerical   \n",
       "range                            3-4                      1-4          80-80   \n",
       "\n",
       "                   StockOptionLevel TotalWorkingYears TrainingTimesLastYear  \\\n",
       "observations(rows)             1470              1470                  1470   \n",
       "percent missing       0.0% (0/1470)     0.0% (0/1470)         0.0% (0/1470)   \n",
       "dtype                     numerical         numerical             numerical   \n",
       "range                           0-3              0-40                   0-6   \n",
       "\n",
       "                   WorkLifeBalance YearsAtCompany YearsInCurrentRole  \\\n",
       "observations(rows)            1470           1470               1470   \n",
       "percent missing      0.0% (0/1470)  0.0% (0/1470)      0.0% (0/1470)   \n",
       "dtype                    numerical      numerical          numerical   \n",
       "range                          1-4           0-40               0-18   \n",
       "\n",
       "                   YearsSinceLastPromotion YearsWithCurrManager  \n",
       "observations(rows)                    1470                 1470  \n",
       "percent missing              0.0% (0/1470)        0.0% (0/1470)  \n",
       "dtype                            numerical            numerical  \n",
       "range                                 0-15                 0-17  "
      ]
     },
     "metadata": {},
     "output_type": "display_data"
    }
   ],
   "source": [
    "\n",
    "description = pd.DataFrame(index=['observations(rows)', 'percent missing', 'dtype', 'range'])\n",
    "numerical = []\n",
    "categorical = []\n",
    "for col in attrition.columns:\n",
    "    obs = attrition[col].size\n",
    "    p_nan = round(attrition[col].isna().sum()/obs, 2)\n",
    "    num_nan = f'{p_nan}% ({attrition[col].isna().sum()}/{obs})'\n",
    "    dtype = 'categorical' if attrition[col].dtype == object else 'numerical'\n",
    "    numerical.append(col) if dtype == 'numerical' else categorical.append(col)\n",
    "    rng = f'{len(attrition[col].unique())} labels' if dtype == 'categorical' else f'{attrition[col].min()}-{attrition[col].max()}'\n",
    "    description[col] = [obs, num_nan, dtype, rng]\n",
    "\n",
    "numerical.remove('EmployeeCount')\n",
    "numerical.remove('StandardHours')\n",
    "pd.set_option('display.max_columns', 100)\n",
    "display(description)\n"
   ]
  },
  {
   "cell_type": "markdown",
   "metadata": {},
   "source": [
    "## Distribution of the dataset\n",
    "\n",
    "Generally one of the first few steps in exploring the data would be to have a rough idea of how the features are distributed with one another."
   ]
  },
  {
   "cell_type": "code",
   "execution_count": 5,
   "metadata": {},
   "outputs": [
    {
     "data": {
      "image/png": "[encoded data removed]",
      "text/plain": [
       "<Figure size 720x576 with 9 Axes>"
      ]
     },
     "metadata": {
      "needs_background": "light"
     },
     "output_type": "display_data"
    }
   ],
   "source": [
    "# Plotting the KDEplots\n",
    "f, axes = plt.subplots(3, 3, figsize=(10, 8), \n",
    "                       sharex=False, sharey=False)\n",
    "\n",
    "# Defining our colormap scheme\n",
    "s = np.linspace(0, 3, 10)\n",
    "cmap = sns.cubehelix_palette(start=0.0, light=1, as_cmap=True)\n",
    "# Generate and plot\n",
    "x = attrition['Age'].values\n",
    "y = attrition['TotalWorkingYears'].values\n",
    "sns.kdeplot(x, y, cmap=cmap, shade=True, cut=5, ax=axes[0,0])\n",
    "axes[0,0].set( title = 'Age against Total working years')\n",
    "\n",
    "cmap = sns.cubehelix_palette(start=0.333333333333, light=1, as_cmap=True)\n",
    "# Generate and plot\n",
    "x = attrition['Age'].values\n",
    "y = attrition['DailyRate'].values\n",
    "sns.kdeplot(x, y, cmap=cmap, shade=True, ax=axes[0,1])\n",
    "axes[0,1].set( title = 'Age against Daily Rate')\n",
    "\n",
    "cmap = sns.cubehelix_palette(start=0.666666666667, light=1, as_cmap=True)\n",
    "# Generate and plot\n",
    "x = attrition['YearsInCurrentRole'].values\n",
    "y = attrition['Age'].values\n",
    "sns.kdeplot(x, y, cmap=cmap, shade=True, ax=axes[0,2])\n",
    "axes[0,2].set( title = 'Years in role against Age')\n",
    "\n",
    "cmap = sns.cubehelix_palette(start=1.0, light=1, as_cmap=True)\n",
    "# Generate and plot\n",
    "x = attrition['DailyRate'].values\n",
    "y = attrition['DistanceFromHome'].values\n",
    "sns.kdeplot(x, y, cmap=cmap, shade=True,  ax=axes[1,0])\n",
    "axes[1,0].set( title = 'Daily Rate against DistancefromHome')\n",
    "\n",
    "cmap = sns.cubehelix_palette(start=1.333333333333, light=1, as_cmap=True)\n",
    "# Generate and plot\n",
    "x = attrition['DailyRate'].values\n",
    "y = attrition['JobSatisfaction'].values\n",
    "sns.kdeplot(x, y, cmap=cmap, shade=True,  ax=axes[1,1])\n",
    "axes[1,1].set( title = 'Daily Rate against Job satisfaction')\n",
    "\n",
    "cmap = sns.cubehelix_palette(start=1.666666666667, light=1, as_cmap=True)\n",
    "# Generate and plot\n",
    "x = attrition['YearsAtCompany'].values\n",
    "y = attrition['JobSatisfaction'].values\n",
    "sns.kdeplot(x, y, cmap=cmap, shade=True,  ax=axes[1,2])\n",
    "axes[1,2].set( title = 'Daily Rate against distance')\n",
    "\n",
    "cmap = sns.cubehelix_palette(start=2.0, light=1, as_cmap=True)\n",
    "# Generate and plot\n",
    "x = attrition['YearsAtCompany'].values\n",
    "y = attrition['DailyRate'].values\n",
    "sns.kdeplot(x, y, cmap=cmap, shade=True,  ax=axes[2,0])\n",
    "axes[2,0].set( title = 'Years at company against Daily Rate')\n",
    "\n",
    "cmap = sns.cubehelix_palette(start=2.333333333333, light=1, as_cmap=True)\n",
    "# Generate and plot\n",
    "x = attrition['RelationshipSatisfaction'].values\n",
    "y = attrition['YearsWithCurrManager'].values\n",
    "sns.kdeplot(x, y, cmap=cmap, shade=True,  ax=axes[2,1])\n",
    "axes[2,1].set( title = 'Relationship Satisfaction vs years with manager')\n",
    "\n",
    "cmap = sns.cubehelix_palette(start=2.666666666667, light=1, as_cmap=True)\n",
    "# Generate and plot\n",
    "x = attrition['WorkLifeBalance'].values\n",
    "y = attrition['JobSatisfaction'].values\n",
    "sns.kdeplot(x, y, cmap=cmap, shade=True,  ax=axes[2,2])\n",
    "axes[2,2].set( title = 'WorklifeBalance against Satisfaction')\n",
    "\n",
    "f.tight_layout()"
   ]
  },
  {
   "cell_type": "code",
   "execution_count": 6,
   "metadata": {},
   "outputs": [],
   "source": [
    "# Define a dictionary for the target mapping\n",
    "target_map = {'Yes':1, 'No':0}\n",
    "# Use the pandas apply method to numerically encode our attrition target variable\n",
    "attrition[\"Attrition_numerical\"] = attrition[\"Attrition\"].apply(lambda x: target_map[x])"
   ]
  },
  {
   "cell_type": "code",
   "execution_count": 7,
   "metadata": {},
   "outputs": [
    {
     "name": "stdout",
     "output_type": "stream",
     "text": [
      "Number of numerical variables:  27\n"
     ]
    }
   ],
   "source": [
    "#  creating a list of only numerical values\n",
    "num_vars = [var for var in attrition.columns if attrition[var].dtypes != 'O']\n",
    "\n",
    "print('Number of numerical variables: ', len(num_vars))"
   ]
  },
  {
   "cell_type": "code",
   "execution_count": 8,
   "metadata": {},
   "outputs": [
    {
     "data": {
      "text/plain": [
       "['Age',\n",
       " 'DailyRate',\n",
       " 'DistanceFromHome',\n",
       " 'Education',\n",
       " 'EmployeeCount',\n",
       " 'EmployeeNumber',\n",
       " 'EnvironmentSatisfaction',\n",
       " 'HourlyRate',\n",
       " 'JobInvolvement',\n",
       " 'JobLevel',\n",
       " 'JobSatisfaction',\n",
       " 'MonthlyIncome',\n",
       " 'MonthlyRate',\n",
       " 'NumCompaniesWorked',\n",
       " 'PercentSalaryHike',\n",
       " 'PerformanceRating',\n",
       " 'RelationshipSatisfaction',\n",
       " 'StandardHours',\n",
       " 'StockOptionLevel',\n",
       " 'TotalWorkingYears',\n",
       " 'TrainingTimesLastYear',\n",
       " 'WorkLifeBalance',\n",
       " 'YearsAtCompany',\n",
       " 'YearsInCurrentRole',\n",
       " 'YearsSinceLastPromotion',\n",
       " 'YearsWithCurrManager',\n",
       " 'Attrition_numerical']"
      ]
     },
     "execution_count": 8,
     "metadata": {},
     "output_type": "execute_result"
    }
   ],
   "source": [
    "num_vars"
   ]
  },
  {
   "cell_type": "code",
   "execution_count": 9,
   "metadata": {},
   "outputs": [],
   "source": [
    "for x in {'Attrition_numerical', 'EmployeeCount', 'StandardHours'}:\n",
    "    num_vars.remove(x) "
   ]
  },
  {
   "cell_type": "markdown",
   "metadata": {},
   "source": [
    "## Correlation of Features"
   ]
  },
  {
   "cell_type": "code",
   "execution_count": 10,
   "metadata": {},
   "outputs": [
    {
     "data": {
      "text/plain": [
       "24"
      ]
     },
     "execution_count": 10,
     "metadata": {},
     "output_type": "execute_result"
    }
   ],
   "source": [
    "len(num_vars)"
   ]
  },
  {
   "cell_type": "code",
   "execution_count": 11,
   "metadata": {},
   "outputs": [
    {
     "data": {
      "application/vnd.plotly.v1+json": {
       "config": {
        "linkText": "Export to plot.ly",
        "plotlyServerURL": "https://plot.ly",
        "showLink": false
       },
       "data": [
        {
         "colorscale": [
          [
           0,
           "#440154"
          ],
          [
           0.1111111111111111,
           "#482878"
          ],
          [
           0.2222222222222222,
           "#3e4989"
          ],
          [
           0.3333333333333333,
           "#31688e"
          ],
          [
           0.4444444444444444,
           "#26828e"
          ],
          [
           0.5555555555555556,
           "#1f9e89"
          ],
          [
           0.6666666666666666,
           "#35b779"
          ],
          [
           0.7777777777777778,
           "#6ece58"
          ],
          [
           0.8888888888888888,
           "#b5de2b"
          ],
          [
           1,
           "#fde725"
          ]
         ],
         "opacity": 1,
         "reversescale": false,
         "type": "heatmap",
         "x": [
          "Age",
          "DailyRate",
          "DistanceFromHome",
          "Education",
          "EmployeeNumber",
          "EnvironmentSatisfaction",
          "HourlyRate",
          "JobInvolvement",
          "JobLevel",
          "JobSatisfaction",
          "MonthlyIncome",
          "MonthlyRate",
          "NumCompaniesWorked",
          "PercentSalaryHike",
          "PerformanceRating",
          "RelationshipSatisfaction",
          "StockOptionLevel",
          "TotalWorkingYears",
          "TrainingTimesLastYear",
          "WorkLifeBalance",
          "YearsAtCompany",
          "YearsInCurrentRole",
          "YearsSinceLastPromotion",
          "YearsWithCurrManager"
         ],
         "y": [
          "Age",
          "DailyRate",
          "DistanceFromHome",
          "Education",
          "EmployeeNumber",
          "EnvironmentSatisfaction",
          "HourlyRate",
          "JobInvolvement",
          "JobLevel",
          "JobSatisfaction",
          "MonthlyIncome",
          "MonthlyRate",
          "NumCompaniesWorked",
          "PercentSalaryHike",
          "PerformanceRating",
          "RelationshipSatisfaction",
          "StockOptionLevel",
          "TotalWorkingYears",
          "TrainingTimesLastYear",
          "WorkLifeBalance",
          "YearsAtCompany",
          "YearsInCurrentRole",
          "YearsSinceLastPromotion",
          "YearsWithCurrManager"
         ],
         "z": [
          [
           1,
           0.010660942645538149,
           -0.0016861201480870135,
           0.20803373101424003,
           -0.010145467076855675,
           0.010146427861437251,
           0.02428654255096734,
           0.02981995862959055,
           0.5096042284323877,
           -0.004891877148687357,
           0.49785456692658075,
           0.028051167133922784,
           0.29963475798369266,
           0.0036335849148617645,
           0.0019038955127583738,
           0.053534719671228664,
           0.0375097124247778,
           0.6803805357911991,
           -0.019620818942698393,
           -0.021490027957098534,
           0.3113087697450993,
           0.21290105556556693,
           0.21651336785165384,
           0.20208860237515222
          ],
          [
           0.010660942645538149,
           1,
           -0.004985337352552674,
           -0.01680643320915765,
           -0.050990433654478126,
           0.018354854300385467,
           0.023381421528320238,
           0.04613487399781132,
           0.0029663348551117142,
           0.03057100783714411,
           0.007707058872006039,
           -0.032181601522581774,
           0.03815343427940969,
           0.022703677496334916,
           0.0004732963271882408,
           0.007846030957248321,
           0.042142796377206686,
           0.014514738706320859,
           0.002452542712083261,
           -0.037848051005781515,
           -0.034054767568547466,
           0.009932014960094184,
           -0.03322898478777197,
           -0.026363178228837648
          ],
          [
           -0.0016861201480870135,
           -0.004985337352552674,
           1,
           0.021041825624123364,
           0.032916407199243866,
           -0.016075326996493465,
           0.031130585611766015,
           0.008783279886444232,
           0.00530273055449623,
           -0.0036688391677204214,
           -0.01701444474527587,
           0.027472863548884053,
           -0.029250804197292986,
           0.04023537745919304,
           0.02710961848197604,
           0.006557474646578711,
           0.044871998853181376,
           0.004628425863783853,
           -0.036942234339916,
           -0.02655600410656897,
           0.009507719899011271,
           0.018844999108945663,
           0.010028835943115365,
           0.014406048430629939
          ],
          [
           0.20803373101424003,
           -0.01680643320915765,
           0.021041825624123364,
           1,
           0.042070093029328424,
           -0.027128313256511653,
           0.016774828880960865,
           0.042437634318608114,
           0.10158888624850132,
           -0.011296116736574009,
           0.09496067704188856,
           -0.026084197160047597,
           0.12631656017668416,
           -0.011110940860654199,
           -0.024538791164833422,
           -0.009118376696381497,
           0.01842222020401694,
           0.14827969653887266,
           -0.025100241137933486,
           0.009819189309781843,
           0.06911369603133874,
           0.060235554120695735,
           0.05425433359132035,
           0.06906537825528397
          ],
          [
           -0.010145467076855675,
           -0.050990433654478126,
           0.032916407199243866,
           0.042070093029328424,
           1,
           0.017620802485588,
           0.035179212418711185,
           -0.006887922987035419,
           -0.018519193974228312,
           -0.046246734939416716,
           -0.014828515873784741,
           0.012648229168459414,
           -0.001251032039801599,
           -0.012943995546151018,
           -0.0203588251469522,
           -0.06986141146763623,
           0.06222669251362312,
           -0.014365198461300408,
           0.02360316959192501,
           0.010308641437966677,
           -0.011240463708114035,
           -0.008416311998425857,
           -0.009019064206633747,
           -0.009196645292770457
          ],
          [
           0.010146427861437251,
           0.018354854300385467,
           -0.016075326996493465,
           -0.027128313256511653,
           0.017620802485588,
           1,
           -0.04985695620300049,
           -0.008277598171759227,
           0.001211699448913975,
           -0.006784352599075191,
           -0.006259087754780221,
           0.03759962286571541,
           0.012594323218943297,
           -0.03170119524179215,
           -0.029547952297681358,
           0.0076653835410744765,
           0.0034321577550576604,
           -0.0026930703885341364,
           -0.019359308347132335,
           0.027627295460115407,
           0.0014575491911166178,
           0.018007460142878566,
           0.016193605568453423,
           -0.0049987226281075076
          ],
          [
           0.02428654255096734,
           0.023381421528320238,
           0.031130585611766015,
           0.016774828880960865,
           0.035179212418711185,
           -0.04985695620300049,
           1,
           0.04286064097152996,
           -0.027853486405547332,
           -0.07133462437378851,
           -0.015794304380892906,
           -0.015296749550649706,
           0.022156883390196815,
           -0.009061986253740113,
           -0.0021716974278102176,
           0.0013304527859505607,
           0.05026339906511977,
           -0.002333681823322244,
           -0.008547685209270621,
           -0.004607233750264436,
           -0.019581616209121213,
           -0.02410622020878486,
           -0.02671558606433533,
           -0.020123200184066038
          ],
          [
           0.02981995862959055,
           0.04613487399781132,
           0.008783279886444232,
           0.042437634318608114,
           -0.006887922987035419,
           -0.008277598171759227,
           0.04286064097152996,
           1,
           -0.012629882671190917,
           -0.02147591033530702,
           -0.015271490778732858,
           -0.016322079053317184,
           0.01501241324311095,
           -0.017204572244480576,
           -0.029071333439070115,
           0.03429682061119727,
           0.021522640378023945,
           -0.005533182057407529,
           -0.015337825759428998,
           -0.014616593162761336,
           -0.02135542697962983,
           0.008716963497611708,
           -0.024184292365178967,
           0.025975807949088905
          ],
          [
           0.5096042284323877,
           0.0029663348551117142,
           0.00530273055449623,
           0.10158888624850132,
           -0.018519193974228312,
           0.001211699448913975,
           -0.027853486405547332,
           -0.012629882671190917,
           1,
           -0.0019437080267456803,
           0.950299913479854,
           0.039562951045684296,
           0.14250112381048835,
           -0.03473049227941859,
           -0.021222082108856632,
           0.021641510532591626,
           0.013983910528615518,
           0.7822078045362802,
           -0.01819055019354957,
           0.03781774559666627,
           0.5347386873756353,
           0.3894467328766716,
           0.35388534696410395,
           0.3752806077657263
          ],
          [
           -0.004891877148687357,
           0.03057100783714411,
           -0.0036688391677204214,
           -0.011296116736574009,
           -0.046246734939416716,
           -0.006784352599075191,
           -0.07133462437378851,
           -0.02147591033530702,
           -0.0019437080267456803,
           1,
           -0.007156742355912731,
           0.0006439169427039258,
           -0.05569942601274601,
           0.020002039364081937,
           0.0022971970637801426,
           -0.012453593161926874,
           0.01069022612075585,
           -0.02018507268501687,
           -0.005779334958609058,
           -0.019458710212974534,
           -0.003802627948288062,
           -0.0023047852298301056,
           -0.018213567810190918,
           -0.02765621388428996
          ],
          [
           0.49785456692658075,
           0.007707058872006039,
           -0.01701444474527587,
           0.09496067704188856,
           -0.014828515873784741,
           -0.006259087754780221,
           -0.015794304380892906,
           -0.015271490778732858,
           0.950299913479854,
           -0.007156742355912731,
           1,
           0.034813626134121846,
           0.14951521598969764,
           -0.027268586440314498,
           -0.017120138237390704,
           0.025873436137557375,
           0.005407676696812226,
           0.7728932462543548,
           -0.021736276823893293,
           0.030683081556940366,
           0.5142848257331964,
           0.36381766692870654,
           0.34497763816542787,
           0.3440788832587207
          ],
          [
           0.028051167133922784,
           -0.032181601522581774,
           0.027472863548884053,
           -0.026084197160047597,
           0.012648229168459414,
           0.03759962286571541,
           -0.015296749550649706,
           -0.016322079053317184,
           0.039562951045684296,
           0.0006439169427039258,
           0.034813626134121846,
           1,
           0.017521353415571556,
           -0.006429345946711349,
           -0.00981142848936072,
           -0.004085329337519465,
           -0.034322830206661034,
           0.026442471176015413,
           0.0014668806322857696,
           0.007963157516976974,
           -0.02365510670617723,
           -0.012814874370471655,
           0.0015667995146762359,
           -0.036745905336769295
          ],
          [
           0.29963475798369266,
           0.03815343427940969,
           -0.029250804197292986,
           0.12631656017668416,
           -0.001251032039801599,
           0.012594323218943297,
           0.022156883390196815,
           0.01501241324311095,
           0.14250112381048835,
           -0.05569942601274601,
           0.14951521598969764,
           0.017521353415571556,
           1,
           -0.010238309359925531,
           -0.014094872753535341,
           0.052733048564885456,
           0.03007547509689753,
           0.23763858978479374,
           -0.06605407172783631,
           -0.008365684790058657,
           -0.11842134024259048,
           -0.09075393370080816,
           -0.03681389238350813,
           -0.11031915543773214
          ],
          [
           0.0036335849148617645,
           0.022703677496334916,
           0.04023537745919304,
           -0.011110940860654199,
           -0.012943995546151018,
           -0.03170119524179215,
           -0.009061986253740113,
           -0.017204572244480576,
           -0.03473049227941859,
           0.020002039364081937,
           -0.027268586440314498,
           -0.006429345946711349,
           -0.010238309359925531,
           1,
           0.7735499964012668,
           -0.0404900810570771,
           0.00752774782052024,
           -0.02060848761769149,
           -0.005221012351720988,
           -0.0032796360093679373,
           -0.03599126243195386,
           -0.0015200265442777384,
           -0.022154312598866084,
           -0.011985248472361218
          ],
          [
           0.0019038955127583738,
           0.0004732963271882408,
           0.02710961848197604,
           -0.024538791164833422,
           -0.0203588251469522,
           -0.029547952297681358,
           -0.0021716974278102176,
           -0.029071333439070115,
           -0.021222082108856632,
           0.0022971970637801426,
           -0.017120138237390704,
           -0.00981142848936072,
           -0.014094872753535341,
           0.7735499964012668,
           1,
           -0.03135145544245493,
           0.003506471614809925,
           0.006743667905952884,
           -0.015578881739137221,
           0.002572361317682325,
           0.003435126115923952,
           0.03498626040719472,
           0.017896066144799612,
           0.022827168908479786
          ],
          [
           0.053534719671228664,
           0.007846030957248321,
           0.006557474646578711,
           -0.009118376696381497,
           -0.06986141146763623,
           0.0076653835410744765,
           0.0013304527859505607,
           0.03429682061119727,
           0.021641510532591626,
           -0.012453593161926874,
           0.025873436137557375,
           -0.004085329337519465,
           0.052733048564885456,
           -0.0404900810570771,
           -0.03135145544245493,
           1,
           -0.04595249071656096,
           0.02405429182134115,
           0.0024965263921170973,
           0.01960440570396862,
           0.019366786877455352,
           -0.015122914881937524,
           0.033492502069353614,
           -0.0008674968446255921
          ],
          [
           0.0375097124247778,
           0.042142796377206686,
           0.044871998853181376,
           0.01842222020401694,
           0.06222669251362312,
           0.0034321577550576604,
           0.05026339906511977,
           0.021522640378023945,
           0.013983910528615518,
           0.01069022612075585,
           0.005407676696812226,
           -0.034322830206661034,
           0.03007547509689753,
           0.00752774782052024,
           0.003506471614809925,
           -0.04595249071656096,
           1,
           0.01013596931890164,
           0.011274069611249013,
           0.004128730002871822,
           0.015058008028094429,
           0.05081787275393108,
           0.014352184864355582,
           0.02469822656302997
          ],
          [
           0.6803805357911991,
           0.014514738706320859,
           0.004628425863783853,
           0.14827969653887266,
           -0.014365198461300408,
           -0.0026930703885341364,
           -0.002333681823322244,
           -0.005533182057407529,
           0.7822078045362802,
           -0.02018507268501687,
           0.7728932462543548,
           0.026442471176015413,
           0.23763858978479374,
           -0.02060848761769149,
           0.006743667905952884,
           0.02405429182134115,
           0.01013596931890164,
           1,
           -0.03566157127961898,
           0.0010076456218964744,
           0.6281331552682479,
           0.4603646380118082,
           0.40485775850255995,
           0.4591883970831438
          ],
          [
           -0.019620818942698393,
           0.002452542712083261,
           -0.036942234339916,
           -0.025100241137933486,
           0.02360316959192501,
           -0.019359308347132335,
           -0.008547685209270621,
           -0.015337825759428998,
           -0.01819055019354957,
           -0.005779334958609058,
           -0.021736276823893293,
           0.0014668806322857696,
           -0.06605407172783631,
           -0.005221012351720988,
           -0.015578881739137221,
           0.0024965263921170973,
           0.011274069611249013,
           -0.03566157127961898,
           1,
           0.028072206603628903,
           0.003568665678427497,
           -0.005737504337956901,
           -0.00206653603800598,
           -0.0040955260212261965
          ],
          [
           -0.021490027957098534,
           -0.037848051005781515,
           -0.02655600410656897,
           0.009819189309781843,
           0.010308641437966677,
           0.027627295460115407,
           -0.004607233750264436,
           -0.014616593162761336,
           0.03781774559666627,
           -0.019458710212974534,
           0.030683081556940366,
           0.007963157516976974,
           -0.008365684790058657,
           -0.0032796360093679373,
           0.002572361317682325,
           0.01960440570396862,
           0.004128730002871822,
           0.0010076456218964744,
           0.028072206603628903,
           1,
           0.012089185354581271,
           0.04985649792220411,
           0.008941249141234248,
           0.002759440242340434
          ],
          [
           0.3113087697450993,
           -0.034054767568547466,
           0.009507719899011271,
           0.06911369603133874,
           -0.011240463708114035,
           0.0014575491911166178,
           -0.019581616209121213,
           -0.02135542697962983,
           0.5347386873756353,
           -0.003802627948288062,
           0.5142848257331964,
           -0.02365510670617723,
           -0.11842134024259048,
           -0.03599126243195386,
           0.003435126115923952,
           0.019366786877455352,
           0.015058008028094429,
           0.6281331552682479,
           0.003568665678427497,
           0.012089185354581271,
           1,
           0.7587537366134616,
           0.618408865217602,
           0.7692124251006991
          ],
          [
           0.21290105556556693,
           0.009932014960094184,
           0.018844999108945663,
           0.060235554120695735,
           -0.008416311998425857,
           0.018007460142878566,
           -0.02410622020878486,
           0.008716963497611708,
           0.3894467328766716,
           -0.0023047852298301056,
           0.36381766692870654,
           -0.012814874370471655,
           -0.09075393370080816,
           -0.0015200265442777384,
           0.03498626040719472,
           -0.015122914881937524,
           0.05081787275393108,
           0.4603646380118082,
           -0.005737504337956901,
           0.04985649792220411,
           0.7587537366134616,
           1,
           0.5480562476995158,
           0.7143647616385903
          ],
          [
           0.21651336785165384,
           -0.03322898478777197,
           0.010028835943115365,
           0.05425433359132035,
           -0.009019064206633747,
           0.016193605568453423,
           -0.02671558606433533,
           -0.024184292365178967,
           0.35388534696410395,
           -0.018213567810190918,
           0.34497763816542787,
           0.0015667995146762359,
           -0.03681389238350813,
           -0.022154312598866084,
           0.017896066144799612,
           0.033492502069353614,
           0.014352184864355582,
           0.40485775850255995,
           -0.00206653603800598,
           0.008941249141234248,
           0.618408865217602,
           0.5480562476995158,
           1,
           0.5102236357788096
          ],
          [
           0.20208860237515222,
           -0.026363178228837648,
           0.014406048430629939,
           0.06906537825528397,
           -0.009196645292770457,
           -0.0049987226281075076,
           -0.020123200184066038,
           0.025975807949088905,
           0.3752806077657263,
           -0.02765621388428996,
           0.3440788832587207,
           -0.036745905336769295,
           -0.11031915543773214,
           -0.011985248472361218,
           0.022827168908479786,
           -0.0008674968446255921,
           0.02469822656302997,
           0.4591883970831438,
           -0.0040955260212261965,
           0.002759440242340434,
           0.7692124251006991,
           0.7143647616385903,
           0.5102236357788096,
           1
          ]
         ]
        }
       ],
       "layout": {
        "height": 700,
        "template": {
         "data": {
          "bar": [
           {
            "error_x": {
             "color": "#2a3f5f"
            },
            "error_y": {
             "color": "#2a3f5f"
            },
            "marker": {
             "line": {
              "color": "#E5ECF6",
              "width": 0.5
             }
            },
            "type": "bar"
           }
          ],
          "barpolar": [
           {
            "marker": {
             "line": {
              "color": "#E5ECF6",
              "width": 0.5
             }
            },
            "type": "barpolar"
           }
          ],
          "carpet": [
           {
            "aaxis": {
             "endlinecolor": "#2a3f5f",
             "gridcolor": "white",
             "linecolor": "white",
             "minorgridcolor": "white",
             "startlinecolor": "#2a3f5f"
            },
            "baxis": {
             "endlinecolor": "#2a3f5f",
             "gridcolor": "white",
             "linecolor": "white",
             "minorgridcolor": "white",
             "startlinecolor": "#2a3f5f"
            },
            "type": "carpet"
           }
          ],
          "choropleth": [
           {
            "colorbar": {
             "outlinewidth": 0,
             "ticks": ""
            },
            "type": "choropleth"
           }
          ],
          "contour": [
           {
            "colorbar": {
             "outlinewidth": 0,
             "ticks": ""
            },
            "colorscale": [
             [
              0,
              "#0d0887"
             ],
             [
              0.1111111111111111,
              "#46039f"
             ],
             [
              0.2222222222222222,
              "#7201a8"
             ],
             [
              0.3333333333333333,
              "#9c179e"
             ],
             [
              0.4444444444444444,
              "#bd3786"
             ],
             [
              0.5555555555555556,
              "#d8576b"
             ],
             [
              0.6666666666666666,
              "#ed7953"
             ],
             [
              0.7777777777777778,
              "#fb9f3a"
             ],
             [
              0.8888888888888888,
              "#fdca26"
             ],
             [
              1,
              "#f0f921"
             ]
            ],
            "type": "contour"
           }
          ],
          "contourcarpet": [
           {
            "colorbar": {
             "outlinewidth": 0,
             "ticks": ""
            },
            "type": "contourcarpet"
           }
          ],
          "heatmap": [
           {
            "colorbar": {
             "outlinewidth": 0,
             "ticks": ""
            },
            "colorscale": [
             [
              0,
              "#0d0887"
             ],
             [
              0.1111111111111111,
              "#46039f"
             ],
             [
              0.2222222222222222,
              "#7201a8"
             ],
             [
              0.3333333333333333,
              "#9c179e"
             ],
             [
              0.4444444444444444,
              "#bd3786"
             ],
             [
              0.5555555555555556,
              "#d8576b"
             ],
             [
              0.6666666666666666,
              "#ed7953"
             ],
             [
              0.7777777777777778,
              "#fb9f3a"
             ],
             [
              0.8888888888888888,
              "#fdca26"
             ],
             [
              1,
              "#f0f921"
             ]
            ],
            "type": "heatmap"
           }
          ],
          "heatmapgl": [
           {
            "colorbar": {
             "outlinewidth": 0,
             "ticks": ""
            },
            "colorscale": [
             [
              0,
              "#0d0887"
             ],
             [
              0.1111111111111111,
              "#46039f"
             ],
             [
              0.2222222222222222,
              "#7201a8"
             ],
             [
              0.3333333333333333,
              "#9c179e"
             ],
             [
              0.4444444444444444,
              "#bd3786"
             ],
             [
              0.5555555555555556,
              "#d8576b"
             ],
             [
              0.6666666666666666,
              "#ed7953"
             ],
             [
              0.7777777777777778,
              "#fb9f3a"
             ],
             [
              0.8888888888888888,
              "#fdca26"
             ],
             [
              1,
              "#f0f921"
             ]
            ],
            "type": "heatmapgl"
           }
          ],
          "histogram": [
           {
            "marker": {
             "colorbar": {
              "outlinewidth": 0,
              "ticks": ""
             }
            },
            "type": "histogram"
           }
          ],
          "histogram2d": [
           {
            "colorbar": {
             "outlinewidth": 0,
             "ticks": ""
            },
            "colorscale": [
             [
              0,
              "#0d0887"
             ],
             [
              0.1111111111111111,
              "#46039f"
             ],
             [
              0.2222222222222222,
              "#7201a8"
             ],
             [
              0.3333333333333333,
              "#9c179e"
             ],
             [
              0.4444444444444444,
              "#bd3786"
             ],
             [
              0.5555555555555556,
              "#d8576b"
             ],
             [
              0.6666666666666666,
              "#ed7953"
             ],
             [
              0.7777777777777778,
              "#fb9f3a"
             ],
             [
              0.8888888888888888,
              "#fdca26"
             ],
             [
              1,
              "#f0f921"
             ]
            ],
            "type": "histogram2d"
           }
          ],
          "histogram2dcontour": [
           {
            "colorbar": {
             "outlinewidth": 0,
             "ticks": ""
            },
            "colorscale": [
             [
              0,
              "#0d0887"
             ],
             [
              0.1111111111111111,
              "#46039f"
             ],
             [
              0.2222222222222222,
              "#7201a8"
             ],
             [
              0.3333333333333333,
              "#9c179e"
             ],
             [
              0.4444444444444444,
              "#bd3786"
             ],
             [
              0.5555555555555556,
              "#d8576b"
             ],
             [
              0.6666666666666666,
              "#ed7953"
             ],
             [
              0.7777777777777778,
              "#fb9f3a"
             ],
             [
              0.8888888888888888,
              "#fdca26"
             ],
             [
              1,
              "#f0f921"
             ]
            ],
            "type": "histogram2dcontour"
           }
          ],
          "mesh3d": [
           {
            "colorbar": {
             "outlinewidth": 0,
             "ticks": ""
            },
            "type": "mesh3d"
           }
          ],
          "parcoords": [
           {
            "line": {
             "colorbar": {
              "outlinewidth": 0,
              "ticks": ""
             }
            },
            "type": "parcoords"
           }
          ],
          "scatter": [
           {
            "marker": {
             "colorbar": {
              "outlinewidth": 0,
              "ticks": ""
             }
            },
            "type": "scatter"
           }
          ],
          "scatter3d": [
           {
            "line": {
             "colorbar": {
              "outlinewidth": 0,
              "ticks": ""
             }
            },
            "marker": {
             "colorbar": {
              "outlinewidth": 0,
              "ticks": ""
             }
            },
            "type": "scatter3d"
           }
          ],
          "scattercarpet": [
           {
            "marker": {
             "colorbar": {
              "outlinewidth": 0,
              "ticks": ""
             }
            },
            "type": "scattercarpet"
           }
          ],
          "scattergeo": [
           {
            "marker": {
             "colorbar": {
              "outlinewidth": 0,
              "ticks": ""
             }
            },
            "type": "scattergeo"
           }
          ],
          "scattergl": [
           {
            "marker": {
             "colorbar": {
              "outlinewidth": 0,
              "ticks": ""
             }
            },
            "type": "scattergl"
           }
          ],
          "scattermapbox": [
           {
            "marker": {
             "colorbar": {
              "outlinewidth": 0,
              "ticks": ""
             }
            },
            "type": "scattermapbox"
           }
          ],
          "scatterpolar": [
           {
            "marker": {
             "colorbar": {
              "outlinewidth": 0,
              "ticks": ""
             }
            },
            "type": "scatterpolar"
           }
          ],
          "scatterpolargl": [
           {
            "marker": {
             "colorbar": {
              "outlinewidth": 0,
              "ticks": ""
             }
            },
            "type": "scatterpolargl"
           }
          ],
          "scatterternary": [
           {
            "marker": {
             "colorbar": {
              "outlinewidth": 0,
              "ticks": ""
             }
            },
            "type": "scatterternary"
           }
          ],
          "surface": [
           {
            "colorbar": {
             "outlinewidth": 0,
             "ticks": ""
            },
            "colorscale": [
             [
              0,
              "#0d0887"
             ],
             [
              0.1111111111111111,
              "#46039f"
             ],
             [
              0.2222222222222222,
              "#7201a8"
             ],
             [
              0.3333333333333333,
              "#9c179e"
             ],
             [
              0.4444444444444444,
              "#bd3786"
             ],
             [
              0.5555555555555556,
              "#d8576b"
             ],
             [
              0.6666666666666666,
              "#ed7953"
             ],
             [
              0.7777777777777778,
              "#fb9f3a"
             ],
             [
              0.8888888888888888,
              "#fdca26"
             ],
             [
              1,
              "#f0f921"
             ]
            ],
            "type": "surface"
           }
          ],
          "table": [
           {
            "cells": {
             "fill": {
              "color": "#EBF0F8"
             },
             "line": {
              "color": "white"
             }
            },
            "header": {
             "fill": {
              "color": "#C8D4E3"
             },
             "line": {
              "color": "white"
             }
            },
            "type": "table"
           }
          ]
         },
         "layout": {
          "annotationdefaults": {
           "arrowcolor": "#2a3f5f",
           "arrowhead": 0,
           "arrowwidth": 1
          },
          "colorscale": {
           "diverging": [
            [
             0,
             "#8e0152"
            ],
            [
             0.1,
             "#c51b7d"
            ],
            [
             0.2,
             "#de77ae"
            ],
            [
             0.3,
             "#f1b6da"
            ],
            [
             0.4,
             "#fde0ef"
            ],
            [
             0.5,
             "#f7f7f7"
            ],
            [
             0.6,
             "#e6f5d0"
            ],
            [
             0.7,
             "#b8e186"
            ],
            [
             0.8,
             "#7fbc41"
            ],
            [
             0.9,
             "#4d9221"
            ],
            [
             1,
             "#276419"
            ]
           ],
           "sequential": [
            [
             0,
             "#0d0887"
            ],
            [
             0.1111111111111111,
             "#46039f"
            ],
            [
             0.2222222222222222,
             "#7201a8"
            ],
            [
             0.3333333333333333,
             "#9c179e"
            ],
            [
             0.4444444444444444,
             "#bd3786"
            ],
            [
             0.5555555555555556,
             "#d8576b"
            ],
            [
             0.6666666666666666,
             "#ed7953"
            ],
            [
             0.7777777777777778,
             "#fb9f3a"
            ],
            [
             0.8888888888888888,
             "#fdca26"
            ],
            [
             1,
             "#f0f921"
            ]
           ],
           "sequentialminus": [
            [
             0,
             "#0d0887"
            ],
            [
             0.1111111111111111,
             "#46039f"
            ],
            [
             0.2222222222222222,
             "#7201a8"
            ],
            [
             0.3333333333333333,
             "#9c179e"
            ],
            [
             0.4444444444444444,
             "#bd3786"
            ],
            [
             0.5555555555555556,
             "#d8576b"
            ],
            [
             0.6666666666666666,
             "#ed7953"
            ],
            [
             0.7777777777777778,
             "#fb9f3a"
            ],
            [
             0.8888888888888888,
             "#fdca26"
            ],
            [
             1,
             "#f0f921"
            ]
           ]
          },
          "colorway": [
           "#636efa",
           "#EF553B",
           "#00cc96",
           "#ab63fa",
           "#FFA15A",
           "#19d3f3",
           "#FF6692",
           "#B6E880",
           "#FF97FF",
           "#FECB52"
          ],
          "font": {
           "color": "#2a3f5f"
          },
          "geo": {
           "bgcolor": "white",
           "lakecolor": "white",
           "landcolor": "#E5ECF6",
           "showlakes": true,
           "showland": true,
           "subunitcolor": "white"
          },
          "hoverlabel": {
           "align": "left"
          },
          "hovermode": "closest",
          "mapbox": {
           "style": "light"
          },
          "paper_bgcolor": "white",
          "plot_bgcolor": "#E5ECF6",
          "polar": {
           "angularaxis": {
            "gridcolor": "white",
            "linecolor": "white",
            "ticks": ""
           },
           "bgcolor": "#E5ECF6",
           "radialaxis": {
            "gridcolor": "white",
            "linecolor": "white",
            "ticks": ""
           }
          },
          "scene": {
           "xaxis": {
            "backgroundcolor": "#E5ECF6",
            "gridcolor": "white",
            "gridwidth": 2,
            "linecolor": "white",
            "showbackground": true,
            "ticks": "",
            "zerolinecolor": "white"
           },
           "yaxis": {
            "backgroundcolor": "#E5ECF6",
            "gridcolor": "white",
            "gridwidth": 2,
            "linecolor": "white",
            "showbackground": true,
            "ticks": "",
            "zerolinecolor": "white"
           },
           "zaxis": {
            "backgroundcolor": "#E5ECF6",
            "gridcolor": "white",
            "gridwidth": 2,
            "linecolor": "white",
            "showbackground": true,
            "ticks": "",
            "zerolinecolor": "white"
           }
          },
          "shapedefaults": {
           "line": {
            "color": "#2a3f5f"
           }
          },
          "ternary": {
           "aaxis": {
            "gridcolor": "white",
            "linecolor": "white",
            "ticks": ""
           },
           "baxis": {
            "gridcolor": "white",
            "linecolor": "white",
            "ticks": ""
           },
           "bgcolor": "#E5ECF6",
           "caxis": {
            "gridcolor": "white",
            "linecolor": "white",
            "ticks": ""
           }
          },
          "title": {
           "x": 0.05
          },
          "xaxis": {
           "automargin": true,
           "gridcolor": "white",
           "linecolor": "white",
           "ticks": "",
           "zerolinecolor": "white",
           "zerolinewidth": 2
          },
          "yaxis": {
           "automargin": true,
           "gridcolor": "white",
           "linecolor": "white",
           "ticks": "",
           "zerolinecolor": "white",
           "zerolinewidth": 2
          }
         }
        },
        "title": {
         "text": "Pearson Correlation of numerical features"
        },
        "width": 900,
        "xaxis": {
         "nticks": 36,
         "ticks": ""
        },
        "yaxis": {
         "ticks": ""
        }
       }
      },
      "text/html": [
       "<div>\n",
       "        \n",
       "        \n",
       "            <div id=\"9a47f5bc-da96-46f4-a8d5-1a829bb1aa57\" class=\"plotly-graph-div\" style=\"height:700px; width:900px;\"></div>\n",
       "            <script type=\"text/javascript\">\n",
       "                require([\"plotly\"], function(Plotly) {\n",
       "                    window.PLOTLYENV=window.PLOTLYENV || {};\n",
       "                    \n",
       "                if (document.getElementById(\"9a47f5bc-da96-46f4-a8d5-1a829bb1aa57\")) {\n",
       "                    Plotly.newPlot(\n",
       "                        '9a47f5bc-da96-46f4-a8d5-1a829bb1aa57',\n",
       "                        [{\"colorscale\": [[0.0, \"#440154\"], [0.1111111111111111, \"#482878\"], [0.2222222222222222, \"#3e4989\"], [0.3333333333333333, \"#31688e\"], [0.4444444444444444, \"#26828e\"], [0.5555555555555556, \"#1f9e89\"], [0.6666666666666666, \"#35b779\"], [0.7777777777777778, \"#6ece58\"], [0.8888888888888888, \"#b5de2b\"], [1.0, \"#fde725\"]], \"opacity\": 1.0, \"reversescale\": false, \"type\": \"heatmap\", \"x\": [\"Age\", \"DailyRate\", \"DistanceFromHome\", \"Education\", \"EmployeeNumber\", \"EnvironmentSatisfaction\", \"HourlyRate\", \"JobInvolvement\", \"JobLevel\", \"JobSatisfaction\", \"MonthlyIncome\", \"MonthlyRate\", \"NumCompaniesWorked\", \"PercentSalaryHike\", \"PerformanceRating\", \"RelationshipSatisfaction\", \"StockOptionLevel\", \"TotalWorkingYears\", \"TrainingTimesLastYear\", \"WorkLifeBalance\", \"YearsAtCompany\", \"YearsInCurrentRole\", \"YearsSinceLastPromotion\", \"YearsWithCurrManager\"], \"y\": [\"Age\", \"DailyRate\", \"DistanceFromHome\", \"Education\", \"EmployeeNumber\", \"EnvironmentSatisfaction\", \"HourlyRate\", \"JobInvolvement\", \"JobLevel\", \"JobSatisfaction\", \"MonthlyIncome\", \"MonthlyRate\", \"NumCompaniesWorked\", \"PercentSalaryHike\", \"PerformanceRating\", \"RelationshipSatisfaction\", \"StockOptionLevel\", \"TotalWorkingYears\", \"TrainingTimesLastYear\", \"WorkLifeBalance\", \"YearsAtCompany\", \"YearsInCurrentRole\", \"YearsSinceLastPromotion\", \"YearsWithCurrManager\"], \"z\": [[1.0, 0.010660942645538149, -0.0016861201480870135, 0.20803373101424003, -0.010145467076855675, 0.010146427861437251, 0.02428654255096734, 0.02981995862959055, 0.5096042284323877, -0.004891877148687357, 0.49785456692658075, 0.028051167133922784, 0.29963475798369266, 0.0036335849148617645, 0.0019038955127583738, 0.053534719671228664, 0.0375097124247778, 0.6803805357911991, -0.019620818942698393, -0.021490027957098534, 0.3113087697450993, 0.21290105556556693, 0.21651336785165384, 0.20208860237515222], [0.010660942645538149, 1.0, -0.004985337352552674, -0.01680643320915765, -0.050990433654478126, 0.018354854300385467, 0.023381421528320238, 0.04613487399781132, 0.0029663348551117142, 0.03057100783714411, 0.007707058872006039, -0.032181601522581774, 0.03815343427940969, 0.022703677496334916, 0.0004732963271882408, 0.007846030957248321, 0.042142796377206686, 0.014514738706320859, 0.002452542712083261, -0.037848051005781515, -0.034054767568547466, 0.009932014960094184, -0.03322898478777197, -0.026363178228837648], [-0.0016861201480870135, -0.004985337352552674, 1.0, 0.021041825624123364, 0.032916407199243866, -0.016075326996493465, 0.031130585611766015, 0.008783279886444232, 0.00530273055449623, -0.0036688391677204214, -0.01701444474527587, 0.027472863548884053, -0.029250804197292986, 0.04023537745919304, 0.02710961848197604, 0.006557474646578711, 0.044871998853181376, 0.004628425863783853, -0.036942234339916, -0.02655600410656897, 0.009507719899011271, 0.018844999108945663, 0.010028835943115365, 0.014406048430629939], [0.20803373101424003, -0.01680643320915765, 0.021041825624123364, 1.0, 0.042070093029328424, -0.027128313256511653, 0.016774828880960865, 0.042437634318608114, 0.10158888624850132, -0.011296116736574009, 0.09496067704188856, -0.026084197160047597, 0.12631656017668416, -0.011110940860654199, -0.024538791164833422, -0.009118376696381497, 0.01842222020401694, 0.14827969653887266, -0.025100241137933486, 0.009819189309781843, 0.06911369603133874, 0.060235554120695735, 0.05425433359132035, 0.06906537825528397], [-0.010145467076855675, -0.050990433654478126, 0.032916407199243866, 0.042070093029328424, 1.0, 0.017620802485588, 0.035179212418711185, -0.006887922987035419, -0.018519193974228312, -0.046246734939416716, -0.014828515873784741, 0.012648229168459414, -0.001251032039801599, -0.012943995546151018, -0.0203588251469522, -0.06986141146763623, 0.06222669251362312, -0.014365198461300408, 0.02360316959192501, 0.010308641437966677, -0.011240463708114035, -0.008416311998425857, -0.009019064206633747, -0.009196645292770457], [0.010146427861437251, 0.018354854300385467, -0.016075326996493465, -0.027128313256511653, 0.017620802485588, 1.0, -0.04985695620300049, -0.008277598171759227, 0.001211699448913975, -0.006784352599075191, -0.006259087754780221, 0.03759962286571541, 0.012594323218943297, -0.03170119524179215, -0.029547952297681358, 0.0076653835410744765, 0.0034321577550576604, -0.0026930703885341364, -0.019359308347132335, 0.027627295460115407, 0.0014575491911166178, 0.018007460142878566, 0.016193605568453423, -0.0049987226281075076], [0.02428654255096734, 0.023381421528320238, 0.031130585611766015, 0.016774828880960865, 0.035179212418711185, -0.04985695620300049, 1.0, 0.04286064097152996, -0.027853486405547332, -0.07133462437378851, -0.015794304380892906, -0.015296749550649706, 0.022156883390196815, -0.009061986253740113, -0.0021716974278102176, 0.0013304527859505607, 0.05026339906511977, -0.002333681823322244, -0.008547685209270621, -0.004607233750264436, -0.019581616209121213, -0.02410622020878486, -0.02671558606433533, -0.020123200184066038], [0.02981995862959055, 0.04613487399781132, 0.008783279886444232, 0.042437634318608114, -0.006887922987035419, -0.008277598171759227, 0.04286064097152996, 1.0, -0.012629882671190917, -0.02147591033530702, -0.015271490778732858, -0.016322079053317184, 0.01501241324311095, -0.017204572244480576, -0.029071333439070115, 0.03429682061119727, 0.021522640378023945, -0.005533182057407529, -0.015337825759428998, -0.014616593162761336, -0.02135542697962983, 0.008716963497611708, -0.024184292365178967, 0.025975807949088905], [0.5096042284323877, 0.0029663348551117142, 0.00530273055449623, 0.10158888624850132, -0.018519193974228312, 0.001211699448913975, -0.027853486405547332, -0.012629882671190917, 1.0, -0.0019437080267456803, 0.950299913479854, 0.039562951045684296, 0.14250112381048835, -0.03473049227941859, -0.021222082108856632, 0.021641510532591626, 0.013983910528615518, 0.7822078045362802, -0.01819055019354957, 0.03781774559666627, 0.5347386873756353, 0.3894467328766716, 0.35388534696410395, 0.3752806077657263], [-0.004891877148687357, 0.03057100783714411, -0.0036688391677204214, -0.011296116736574009, -0.046246734939416716, -0.006784352599075191, -0.07133462437378851, -0.02147591033530702, -0.0019437080267456803, 1.0, -0.007156742355912731, 0.0006439169427039258, -0.05569942601274601, 0.020002039364081937, 0.0022971970637801426, -0.012453593161926874, 0.01069022612075585, -0.02018507268501687, -0.005779334958609058, -0.019458710212974534, -0.003802627948288062, -0.0023047852298301056, -0.018213567810190918, -0.02765621388428996], [0.49785456692658075, 0.007707058872006039, -0.01701444474527587, 0.09496067704188856, -0.014828515873784741, -0.006259087754780221, -0.015794304380892906, -0.015271490778732858, 0.950299913479854, -0.007156742355912731, 1.0, 0.034813626134121846, 0.14951521598969764, -0.027268586440314498, -0.017120138237390704, 0.025873436137557375, 0.005407676696812226, 0.7728932462543548, -0.021736276823893293, 0.030683081556940366, 0.5142848257331964, 0.36381766692870654, 0.34497763816542787, 0.3440788832587207], [0.028051167133922784, -0.032181601522581774, 0.027472863548884053, -0.026084197160047597, 0.012648229168459414, 0.03759962286571541, -0.015296749550649706, -0.016322079053317184, 0.039562951045684296, 0.0006439169427039258, 0.034813626134121846, 1.0, 0.017521353415571556, -0.006429345946711349, -0.00981142848936072, -0.004085329337519465, -0.034322830206661034, 0.026442471176015413, 0.0014668806322857696, 0.007963157516976974, -0.02365510670617723, -0.012814874370471655, 0.0015667995146762359, -0.036745905336769295], [0.29963475798369266, 0.03815343427940969, -0.029250804197292986, 0.12631656017668416, -0.001251032039801599, 0.012594323218943297, 0.022156883390196815, 0.01501241324311095, 0.14250112381048835, -0.05569942601274601, 0.14951521598969764, 0.017521353415571556, 1.0, -0.010238309359925531, -0.014094872753535341, 0.052733048564885456, 0.03007547509689753, 0.23763858978479374, -0.06605407172783631, -0.008365684790058657, -0.11842134024259048, -0.09075393370080816, -0.03681389238350813, -0.11031915543773214], [0.0036335849148617645, 0.022703677496334916, 0.04023537745919304, -0.011110940860654199, -0.012943995546151018, -0.03170119524179215, -0.009061986253740113, -0.017204572244480576, -0.03473049227941859, 0.020002039364081937, -0.027268586440314498, -0.006429345946711349, -0.010238309359925531, 1.0, 0.7735499964012668, -0.0404900810570771, 0.00752774782052024, -0.02060848761769149, -0.005221012351720988, -0.0032796360093679373, -0.03599126243195386, -0.0015200265442777384, -0.022154312598866084, -0.011985248472361218], [0.0019038955127583738, 0.0004732963271882408, 0.02710961848197604, -0.024538791164833422, -0.0203588251469522, -0.029547952297681358, -0.0021716974278102176, -0.029071333439070115, -0.021222082108856632, 0.0022971970637801426, -0.017120138237390704, -0.00981142848936072, -0.014094872753535341, 0.7735499964012668, 1.0, -0.03135145544245493, 0.003506471614809925, 0.006743667905952884, -0.015578881739137221, 0.002572361317682325, 0.003435126115923952, 0.03498626040719472, 0.017896066144799612, 0.022827168908479786], [0.053534719671228664, 0.007846030957248321, 0.006557474646578711, -0.009118376696381497, -0.06986141146763623, 0.0076653835410744765, 0.0013304527859505607, 0.03429682061119727, 0.021641510532591626, -0.012453593161926874, 0.025873436137557375, -0.004085329337519465, 0.052733048564885456, -0.0404900810570771, -0.03135145544245493, 1.0, -0.04595249071656096, 0.02405429182134115, 0.0024965263921170973, 0.01960440570396862, 0.019366786877455352, -0.015122914881937524, 0.033492502069353614, -0.0008674968446255921], [0.0375097124247778, 0.042142796377206686, 0.044871998853181376, 0.01842222020401694, 0.06222669251362312, 0.0034321577550576604, 0.05026339906511977, 0.021522640378023945, 0.013983910528615518, 0.01069022612075585, 0.005407676696812226, -0.034322830206661034, 0.03007547509689753, 0.00752774782052024, 0.003506471614809925, -0.04595249071656096, 1.0, 0.01013596931890164, 0.011274069611249013, 0.004128730002871822, 0.015058008028094429, 0.05081787275393108, 0.014352184864355582, 0.02469822656302997], [0.6803805357911991, 0.014514738706320859, 0.004628425863783853, 0.14827969653887266, -0.014365198461300408, -0.0026930703885341364, -0.002333681823322244, -0.005533182057407529, 0.7822078045362802, -0.02018507268501687, 0.7728932462543548, 0.026442471176015413, 0.23763858978479374, -0.02060848761769149, 0.006743667905952884, 0.02405429182134115, 0.01013596931890164, 1.0, -0.03566157127961898, 0.0010076456218964744, 0.6281331552682479, 0.4603646380118082, 0.40485775850255995, 0.4591883970831438], [-0.019620818942698393, 0.002452542712083261, -0.036942234339916, -0.025100241137933486, 0.02360316959192501, -0.019359308347132335, -0.008547685209270621, -0.015337825759428998, -0.01819055019354957, -0.005779334958609058, -0.021736276823893293, 0.0014668806322857696, -0.06605407172783631, -0.005221012351720988, -0.015578881739137221, 0.0024965263921170973, 0.011274069611249013, -0.03566157127961898, 1.0, 0.028072206603628903, 0.003568665678427497, -0.005737504337956901, -0.00206653603800598, -0.0040955260212261965], [-0.021490027957098534, -0.037848051005781515, -0.02655600410656897, 0.009819189309781843, 0.010308641437966677, 0.027627295460115407, -0.004607233750264436, -0.014616593162761336, 0.03781774559666627, -0.019458710212974534, 0.030683081556940366, 0.007963157516976974, -0.008365684790058657, -0.0032796360093679373, 0.002572361317682325, 0.01960440570396862, 0.004128730002871822, 0.0010076456218964744, 0.028072206603628903, 1.0, 0.012089185354581271, 0.04985649792220411, 0.008941249141234248, 0.002759440242340434], [0.3113087697450993, -0.034054767568547466, 0.009507719899011271, 0.06911369603133874, -0.011240463708114035, 0.0014575491911166178, -0.019581616209121213, -0.02135542697962983, 0.5347386873756353, -0.003802627948288062, 0.5142848257331964, -0.02365510670617723, -0.11842134024259048, -0.03599126243195386, 0.003435126115923952, 0.019366786877455352, 0.015058008028094429, 0.6281331552682479, 0.003568665678427497, 0.012089185354581271, 1.0, 0.7587537366134616, 0.618408865217602, 0.7692124251006991], [0.21290105556556693, 0.009932014960094184, 0.018844999108945663, 0.060235554120695735, -0.008416311998425857, 0.018007460142878566, -0.02410622020878486, 0.008716963497611708, 0.3894467328766716, -0.0023047852298301056, 0.36381766692870654, -0.012814874370471655, -0.09075393370080816, -0.0015200265442777384, 0.03498626040719472, -0.015122914881937524, 0.05081787275393108, 0.4603646380118082, -0.005737504337956901, 0.04985649792220411, 0.7587537366134616, 1.0, 0.5480562476995158, 0.7143647616385903], [0.21651336785165384, -0.03322898478777197, 0.010028835943115365, 0.05425433359132035, -0.009019064206633747, 0.016193605568453423, -0.02671558606433533, -0.024184292365178967, 0.35388534696410395, -0.018213567810190918, 0.34497763816542787, 0.0015667995146762359, -0.03681389238350813, -0.022154312598866084, 0.017896066144799612, 0.033492502069353614, 0.014352184864355582, 0.40485775850255995, -0.00206653603800598, 0.008941249141234248, 0.618408865217602, 0.5480562476995158, 1.0, 0.5102236357788096], [0.20208860237515222, -0.026363178228837648, 0.014406048430629939, 0.06906537825528397, -0.009196645292770457, -0.0049987226281075076, -0.020123200184066038, 0.025975807949088905, 0.3752806077657263, -0.02765621388428996, 0.3440788832587207, -0.036745905336769295, -0.11031915543773214, -0.011985248472361218, 0.022827168908479786, -0.0008674968446255921, 0.02469822656302997, 0.4591883970831438, -0.0040955260212261965, 0.002759440242340434, 0.7692124251006991, 0.7143647616385903, 0.5102236357788096, 1.0]]}],\n",
       "                        {\"height\": 700, \"template\": {\"data\": {\"bar\": [{\"error_x\": {\"color\": \"#2a3f5f\"}, \"error_y\": {\"color\": \"#2a3f5f\"}, \"marker\": {\"line\": {\"color\": \"#E5ECF6\", \"width\": 0.5}}, \"type\": \"bar\"}], \"barpolar\": [{\"marker\": {\"line\": {\"color\": \"#E5ECF6\", \"width\": 0.5}}, \"type\": \"barpolar\"}], \"carpet\": [{\"aaxis\": {\"endlinecolor\": \"#2a3f5f\", \"gridcolor\": \"white\", \"linecolor\": \"white\", \"minorgridcolor\": \"white\", \"startlinecolor\": \"#2a3f5f\"}, \"baxis\": {\"endlinecolor\": \"#2a3f5f\", \"gridcolor\": \"white\", \"linecolor\": \"white\", \"minorgridcolor\": \"white\", \"startlinecolor\": \"#2a3f5f\"}, \"type\": \"carpet\"}], \"choropleth\": [{\"colorbar\": {\"outlinewidth\": 0, \"ticks\": \"\"}, \"type\": \"choropleth\"}], \"contour\": [{\"colorbar\": {\"outlinewidth\": 0, \"ticks\": \"\"}, \"colorscale\": [[0.0, \"#0d0887\"], [0.1111111111111111, \"#46039f\"], [0.2222222222222222, \"#7201a8\"], [0.3333333333333333, \"#9c179e\"], [0.4444444444444444, \"#bd3786\"], [0.5555555555555556, \"#d8576b\"], [0.6666666666666666, \"#ed7953\"], [0.7777777777777778, \"#fb9f3a\"], [0.8888888888888888, \"#fdca26\"], [1.0, \"#f0f921\"]], \"type\": \"contour\"}], \"contourcarpet\": [{\"colorbar\": {\"outlinewidth\": 0, \"ticks\": \"\"}, \"type\": \"contourcarpet\"}], \"heatmap\": [{\"colorbar\": {\"outlinewidth\": 0, \"ticks\": \"\"}, \"colorscale\": [[0.0, \"#0d0887\"], [0.1111111111111111, \"#46039f\"], [0.2222222222222222, \"#7201a8\"], [0.3333333333333333, \"#9c179e\"], [0.4444444444444444, \"#bd3786\"], [0.5555555555555556, \"#d8576b\"], [0.6666666666666666, \"#ed7953\"], [0.7777777777777778, \"#fb9f3a\"], [0.8888888888888888, \"#fdca26\"], [1.0, \"#f0f921\"]], \"type\": \"heatmap\"}], \"heatmapgl\": [{\"colorbar\": {\"outlinewidth\": 0, \"ticks\": \"\"}, \"colorscale\": [[0.0, \"#0d0887\"], [0.1111111111111111, \"#46039f\"], [0.2222222222222222, \"#7201a8\"], [0.3333333333333333, \"#9c179e\"], [0.4444444444444444, \"#bd3786\"], [0.5555555555555556, \"#d8576b\"], [0.6666666666666666, \"#ed7953\"], [0.7777777777777778, \"#fb9f3a\"], [0.8888888888888888, \"#fdca26\"], [1.0, \"#f0f921\"]], \"type\": \"heatmapgl\"}], \"histogram\": [{\"marker\": {\"colorbar\": {\"outlinewidth\": 0, \"ticks\": \"\"}}, \"type\": \"histogram\"}], \"histogram2d\": [{\"colorbar\": {\"outlinewidth\": 0, \"ticks\": \"\"}, \"colorscale\": [[0.0, \"#0d0887\"], [0.1111111111111111, \"#46039f\"], [0.2222222222222222, \"#7201a8\"], [0.3333333333333333, \"#9c179e\"], [0.4444444444444444, \"#bd3786\"], [0.5555555555555556, \"#d8576b\"], [0.6666666666666666, \"#ed7953\"], [0.7777777777777778, \"#fb9f3a\"], [0.8888888888888888, \"#fdca26\"], [1.0, \"#f0f921\"]], \"type\": \"histogram2d\"}], \"histogram2dcontour\": [{\"colorbar\": {\"outlinewidth\": 0, \"ticks\": \"\"}, \"colorscale\": [[0.0, \"#0d0887\"], [0.1111111111111111, \"#46039f\"], [0.2222222222222222, \"#7201a8\"], [0.3333333333333333, \"#9c179e\"], [0.4444444444444444, \"#bd3786\"], [0.5555555555555556, \"#d8576b\"], [0.6666666666666666, \"#ed7953\"], [0.7777777777777778, \"#fb9f3a\"], [0.8888888888888888, \"#fdca26\"], [1.0, \"#f0f921\"]], \"type\": \"histogram2dcontour\"}], \"mesh3d\": [{\"colorbar\": {\"outlinewidth\": 0, \"ticks\": \"\"}, \"type\": \"mesh3d\"}], \"parcoords\": [{\"line\": {\"colorbar\": {\"outlinewidth\": 0, \"ticks\": \"\"}}, \"type\": \"parcoords\"}], \"scatter\": [{\"marker\": {\"colorbar\": {\"outlinewidth\": 0, \"ticks\": \"\"}}, \"type\": \"scatter\"}], \"scatter3d\": [{\"line\": {\"colorbar\": {\"outlinewidth\": 0, \"ticks\": \"\"}}, \"marker\": {\"colorbar\": {\"outlinewidth\": 0, \"ticks\": \"\"}}, \"type\": \"scatter3d\"}], \"scattercarpet\": [{\"marker\": {\"colorbar\": {\"outlinewidth\": 0, \"ticks\": \"\"}}, \"type\": \"scattercarpet\"}], \"scattergeo\": [{\"marker\": {\"colorbar\": {\"outlinewidth\": 0, \"ticks\": \"\"}}, \"type\": \"scattergeo\"}], \"scattergl\": [{\"marker\": {\"colorbar\": {\"outlinewidth\": 0, \"ticks\": \"\"}}, \"type\": \"scattergl\"}], \"scattermapbox\": [{\"marker\": {\"colorbar\": {\"outlinewidth\": 0, \"ticks\": \"\"}}, \"type\": \"scattermapbox\"}], \"scatterpolar\": [{\"marker\": {\"colorbar\": {\"outlinewidth\": 0, \"ticks\": \"\"}}, \"type\": \"scatterpolar\"}], \"scatterpolargl\": [{\"marker\": {\"colorbar\": {\"outlinewidth\": 0, \"ticks\": \"\"}}, \"type\": \"scatterpolargl\"}], \"scatterternary\": [{\"marker\": {\"colorbar\": {\"outlinewidth\": 0, \"ticks\": \"\"}}, \"type\": \"scatterternary\"}], \"surface\": [{\"colorbar\": {\"outlinewidth\": 0, \"ticks\": \"\"}, \"colorscale\": [[0.0, \"#0d0887\"], [0.1111111111111111, \"#46039f\"], [0.2222222222222222, \"#7201a8\"], [0.3333333333333333, \"#9c179e\"], [0.4444444444444444, \"#bd3786\"], [0.5555555555555556, \"#d8576b\"], [0.6666666666666666, \"#ed7953\"], [0.7777777777777778, \"#fb9f3a\"], [0.8888888888888888, \"#fdca26\"], [1.0, \"#f0f921\"]], \"type\": \"surface\"}], \"table\": [{\"cells\": {\"fill\": {\"color\": \"#EBF0F8\"}, \"line\": {\"color\": \"white\"}}, \"header\": {\"fill\": {\"color\": \"#C8D4E3\"}, \"line\": {\"color\": \"white\"}}, \"type\": \"table\"}]}, \"layout\": {\"annotationdefaults\": {\"arrowcolor\": \"#2a3f5f\", \"arrowhead\": 0, \"arrowwidth\": 1}, \"colorscale\": {\"diverging\": [[0, \"#8e0152\"], [0.1, \"#c51b7d\"], [0.2, \"#de77ae\"], [0.3, \"#f1b6da\"], [0.4, \"#fde0ef\"], [0.5, \"#f7f7f7\"], [0.6, \"#e6f5d0\"], [0.7, \"#b8e186\"], [0.8, \"#7fbc41\"], [0.9, \"#4d9221\"], [1, \"#276419\"]], \"sequential\": [[0.0, \"#0d0887\"], [0.1111111111111111, \"#46039f\"], [0.2222222222222222, \"#7201a8\"], [0.3333333333333333, \"#9c179e\"], [0.4444444444444444, \"#bd3786\"], [0.5555555555555556, \"#d8576b\"], [0.6666666666666666, \"#ed7953\"], [0.7777777777777778, \"#fb9f3a\"], [0.8888888888888888, \"#fdca26\"], [1.0, \"#f0f921\"]], \"sequentialminus\": [[0.0, \"#0d0887\"], [0.1111111111111111, \"#46039f\"], [0.2222222222222222, \"#7201a8\"], [0.3333333333333333, \"#9c179e\"], [0.4444444444444444, \"#bd3786\"], [0.5555555555555556, \"#d8576b\"], [0.6666666666666666, \"#ed7953\"], [0.7777777777777778, \"#fb9f3a\"], [0.8888888888888888, \"#fdca26\"], [1.0, \"#f0f921\"]]}, \"colorway\": [\"#636efa\", \"#EF553B\", \"#00cc96\", \"#ab63fa\", \"#FFA15A\", \"#19d3f3\", \"#FF6692\", \"#B6E880\", \"#FF97FF\", \"#FECB52\"], \"font\": {\"color\": \"#2a3f5f\"}, \"geo\": {\"bgcolor\": \"white\", \"lakecolor\": \"white\", \"landcolor\": \"#E5ECF6\", \"showlakes\": true, \"showland\": true, \"subunitcolor\": \"white\"}, \"hoverlabel\": {\"align\": \"left\"}, \"hovermode\": \"closest\", \"mapbox\": {\"style\": \"light\"}, \"paper_bgcolor\": \"white\", \"plot_bgcolor\": \"#E5ECF6\", \"polar\": {\"angularaxis\": {\"gridcolor\": \"white\", \"linecolor\": \"white\", \"ticks\": \"\"}, \"bgcolor\": \"#E5ECF6\", \"radialaxis\": {\"gridcolor\": \"white\", \"linecolor\": \"white\", \"ticks\": \"\"}}, \"scene\": {\"xaxis\": {\"backgroundcolor\": \"#E5ECF6\", \"gridcolor\": \"white\", \"gridwidth\": 2, \"linecolor\": \"white\", \"showbackground\": true, \"ticks\": \"\", \"zerolinecolor\": \"white\"}, \"yaxis\": {\"backgroundcolor\": \"#E5ECF6\", \"gridcolor\": \"white\", \"gridwidth\": 2, \"linecolor\": \"white\", \"showbackground\": true, \"ticks\": \"\", \"zerolinecolor\": \"white\"}, \"zaxis\": {\"backgroundcolor\": \"#E5ECF6\", \"gridcolor\": \"white\", \"gridwidth\": 2, \"linecolor\": \"white\", \"showbackground\": true, \"ticks\": \"\", \"zerolinecolor\": \"white\"}}, \"shapedefaults\": {\"line\": {\"color\": \"#2a3f5f\"}}, \"ternary\": {\"aaxis\": {\"gridcolor\": \"white\", \"linecolor\": \"white\", \"ticks\": \"\"}, \"baxis\": {\"gridcolor\": \"white\", \"linecolor\": \"white\", \"ticks\": \"\"}, \"bgcolor\": \"#E5ECF6\", \"caxis\": {\"gridcolor\": \"white\", \"linecolor\": \"white\", \"ticks\": \"\"}}, \"title\": {\"x\": 0.05}, \"xaxis\": {\"automargin\": true, \"gridcolor\": \"white\", \"linecolor\": \"white\", \"ticks\": \"\", \"zerolinecolor\": \"white\", \"zerolinewidth\": 2}, \"yaxis\": {\"automargin\": true, \"gridcolor\": \"white\", \"linecolor\": \"white\", \"ticks\": \"\", \"zerolinecolor\": \"white\", \"zerolinewidth\": 2}}}, \"title\": {\"text\": \"Pearson Correlation of numerical features\"}, \"width\": 900, \"xaxis\": {\"nticks\": 36, \"ticks\": \"\"}, \"yaxis\": {\"ticks\": \"\"}},\n",
       "                        {\"responsive\": true}\n",
       "                    ).then(function(){\n",
       "                            \n",
       "var gd = document.getElementById('9a47f5bc-da96-46f4-a8d5-1a829bb1aa57');\n",
       "var x = new MutationObserver(function (mutations, observer) {{\n",
       "        var display = window.getComputedStyle(gd).display;\n",
       "        if (!display || display === 'none') {{\n",
       "            console.log([gd, 'removed!']);\n",
       "            Plotly.purge(gd);\n",
       "            observer.disconnect();\n",
       "        }}\n",
       "}});\n",
       "\n",
       "// Listen for the removal of the full notebook cells\n",
       "var notebookContainer = gd.closest('#notebook-container');\n",
       "if (notebookContainer) {{\n",
       "    x.observe(notebookContainer, {childList: true});\n",
       "}}\n",
       "\n",
       "// Listen for the clearing of the current output cell\n",
       "var outputEl = gd.closest('.output');\n",
       "if (outputEl) {{\n",
       "    x.observe(outputEl, {childList: true});\n",
       "}}\n",
       "\n",
       "                        })\n",
       "                };\n",
       "                });\n",
       "            </script>\n",
       "        </div>"
      ]
     },
     "metadata": {},
     "output_type": "display_data"
    }
   ],
   "source": [
    "# creating a list of only numerical values\n",
    "data = [\n",
    "    go.Heatmap(\n",
    "        z= attrition[num_vars].astype(float).corr().values, # Generating the Pearson correlation\n",
    "        x=attrition[num_vars].columns.values,\n",
    "        y=attrition[num_vars].columns.values,\n",
    "        colorscale='Viridis',\n",
    "        reversescale = False,\n",
    "#         text = True ,\n",
    "        opacity = 1.0\n",
    "        \n",
    "    )\n",
    "]\n",
    "\n",
    "\n",
    "layout = go.Layout(\n",
    "    title='Pearson Correlation of numerical features',\n",
    "    xaxis = dict(ticks='', nticks=36),\n",
    "    yaxis = dict(ticks='' ),\n",
    "    width = 900, height = 700,\n",
    "    \n",
    ")\n",
    "\n",
    "\n",
    "fig = go.Figure(data=data, layout=layout)\n",
    "py.iplot(fig, filename='labelled-heatmap')"
   ]
  },
  {
   "cell_type": "code",
   "execution_count": 12,
   "metadata": {},
   "outputs": [],
   "source": [
    "def org_results(trials, hyperparams, model_name):\n",
    "    fit_idx = -1\n",
    "    for idx, fit  in enumerate(trials):\n",
    "        hyp = fit['misc']['vals']\n",
    "        xgb_hyp = {key:[val] for key, val in hyperparams.items()}\n",
    "        if hyp == xgb_hyp:\n",
    "            fit_idx = idx\n",
    "            break\n",
    "            \n",
    "    train_time = str(trials[-1]['refresh_time'] - trials[0]['book_time'])\n",
    "    acc = round(trials[fit_idx]['result']['accuracy'], 3)\n",
    "    train_auc = round(trials[fit_idx]['result']['train auc'], 3)\n",
    "    test_auc = round(trials[fit_idx]['result']['test auc'], 3)\n",
    "\n",
    "    results = {\n",
    "        'model': model_name,\n",
    "        'parameter search time': train_time,\n",
    "        'accuracy': acc,\n",
    "        'test auc score': test_auc,\n",
    "        'training auc score': train_auc,\n",
    "        'parameters': hyperparams\n",
    "    }\n",
    "    return results"
   ]
  },
  {
   "cell_type": "code",
   "execution_count": 17,
   "metadata": {},
   "outputs": [
    {
     "data": {
      "text/html": [
       "        <script type=\"text/javascript\">\n",
       "        window.PlotlyConfig = {MathJaxConfig: 'local'};\n",
       "        if (window.MathJax) {MathJax.Hub.Config({SVG: {font: \"STIX-Web\"}});}\n",
       "        if (typeof require !== 'undefined') {\n",
       "        require.undef(\"plotly\");\n",
       "        requirejs.config({\n",
       "            paths: {\n",
       "                'plotly': ['https://cdn.plot.ly/plotly-latest.min']\n",
       "            }\n",
       "        });\n",
       "        require(['plotly'], function(Plotly) {\n",
       "            window._Plotly = Plotly;\n",
       "        });\n",
       "        }\n",
       "        </script>\n",
       "        "
      ]
     },
     "metadata": {},
     "output_type": "display_data"
    }
   ],
   "source": [
    "import time\n",
    "import math\n",
    "import seaborn as sns\n",
    "import pandas as pd\n",
    "import numpy as np\n",
    "import scipy as sci\n",
    "import plotly.offline as py\n",
    "import plotly.graph_objs as go\n",
    "py.init_notebook_mode(connected=True)\n",
    "\n",
    "from lightgbm import LGBMClassifier\n",
    "from xgboost import XGBClassifier\n",
    "from catboost import CatBoostClassifier\n",
    "from hyperopt import hp, tpe, Trials, STATUS_OK\n",
    "from hyperopt import fmin\n",
    "\n",
    "from sklearn.metrics import roc_auc_score, accuracy_score\n",
    "from sklearn.model_selection import train_test_split\n",
    "\n",
    "from matplotlib import pyplot as plt\n",
    "plt.style.use('fivethirtyeight') \n",
    "%matplotlib inline"
   ]
  },
  {
   "cell_type": "code",
   "execution_count": 18,
   "metadata": {},
   "outputs": [],
   "source": [
    "lgb_data = attrition.copy()\n",
    "lgb_dummy = pd.get_dummies(lgb_data[categorical], drop_first=True)\n",
    "lgb_data = pd.concat([lgb_dummy, lgb_data], axis=1)\n",
    "lgb_data.drop(columns = categorical, inplace=True)\n",
    "lgb_data.rename(columns={'Attrition_Yes': 'Attrition'}, inplace=True)\n",
    "\n",
    "y_df = lgb_data['Attrition'].reset_index(drop=True)\n",
    "x_df = lgb_data.drop(columns='Attrition')\n",
    "train_x, test_x, train_y, test_y = train_test_split(x_df, y_df, test_size=0.20)\n",
    "\n",
    "def lgb_objective(space, early_stopping_rounds=50):\n",
    "    \n",
    "    lgbm = LGBMClassifier(\n",
    "        learning_rate = space['learning_rate'],\n",
    "        n_estimators= int(space['n_estimators']), \n",
    "        max_depth = int(space['max_depth']),\n",
    "        num_leaves = int(space['num_leaves']),\n",
    "        colsample_bytree = space['colsample_bytree'],\n",
    "        feature_fraction = space['feature_fraction'],\n",
    "        reg_lambda = space['reg_lambda'],\n",
    "        reg_alpha = space['reg_alpha'],\n",
    "        min_split_gain = space['min_split_gain']\n",
    "    )\n",
    "    \n",
    "    lgbm.fit(train_x, train_y, \n",
    "            eval_set = [(train_x, train_y), (test_x, test_y)],\n",
    "            early_stopping_rounds = early_stopping_rounds,\n",
    "            eval_metric = 'auc',\n",
    "            verbose = False)\n",
    "    \n",
    "    predictions = lgbm.predict(test_x)\n",
    "    test_preds = lgbm.predict_proba(test_x)[:,1]\n",
    "    train_preds = lgbm.predict_proba(train_x)[:,1]\n",
    "    \n",
    "    train_auc = roc_auc_score(train_y, train_preds)\n",
    "    test_auc = roc_auc_score(test_y, test_preds)\n",
    "    accuracy = accuracy_score(test_y, predictions)  \n",
    "\n",
    "    return {'status': STATUS_OK, 'loss': 1-test_auc, 'accuracy': accuracy,\n",
    "            'test auc': test_auc, 'train auc': train_auc\n",
    "           }"
   ]
  },
  {
   "cell_type": "code",
   "execution_count": 19,
   "metadata": {},
   "outputs": [
    {
     "name": "stdout",
     "output_type": "stream",
     "text": [
      "100%|██████████| 150/150 [00:16<00:00,  8.92it/s, best loss: 0.0]\n"
     ]
    }
   ],
   "source": [
    "trials = Trials()\n",
    "space = {\n",
    "    'learning_rate': hp.loguniform('learning_rate', np.log(0.001), np.log(0.3)),\n",
    "    'n_estimators': hp.quniform('n_estimators', 50, 1200, 25),\n",
    "    'max_depth': hp.quniform('max_depth', 1, 15, 1),\n",
    "    'num_leaves': hp.quniform('num_leaves', 10, 150, 1),\n",
    "    'colsample_bytree': hp.uniform('colsample_bytree', 0.3, 1.0), \n",
    "    'feature_fraction': hp.uniform('feature_fraction', .3, 1.0),\n",
    "    'reg_lambda': hp.uniform('reg_lambda', 0.0, 1.0),\n",
    "    'reg_alpha': hp.uniform('reg_alpha', 0.0, 1.0),\n",
    "    'min_split_gain': hp.uniform('min_split_gain', 0.0001, 0.1)\n",
    "}\n",
    "\n",
    "lgb_hyperparams = fmin(fn = lgb_objective, \n",
    "                 max_evals = 150, \n",
    "                 trials = trials,\n",
    "                 algo = tpe.suggest,\n",
    "                 space = space\n",
    "                 )\n"
   ]
  },
  {
   "cell_type": "code",
   "execution_count": 20,
   "metadata": {},
   "outputs": [
    {
     "data": {
      "text/plain": [
       "{'model': 'LightGBM',\n",
       " 'parameter search time': '0:00:16.805000',\n",
       " 'accuracy': 0.871,\n",
       " 'test auc score': 1.0,\n",
       " 'training auc score': 1.0,\n",
       " 'parameters': {'colsample_bytree': 0.9248467636827036,\n",
       "  'feature_fraction': 0.5770253385082582,\n",
       "  'learning_rate': 0.0011960065900787143,\n",
       "  'max_depth': 3.0,\n",
       "  'min_split_gain': 0.08643475886097207,\n",
       "  'n_estimators': 350.0,\n",
       "  'num_leaves': 59.0,\n",
       "  'reg_alpha': 0.6416863148658184,\n",
       "  'reg_lambda': 0.007792833879206262}}"
      ]
     },
     "metadata": {},
     "output_type": "display_data"
    }
   ],
   "source": [
    "lgb_results = org_results(trials.trials, lgb_hyperparams, 'LightGBM')\n",
    "display(lgb_results)"
   ]
  },
  {
   "cell_type": "code",
   "execution_count": null,
   "metadata": {},
   "outputs": [],
   "source": []
  }
 ],
 "metadata": {
  "kernelspec": {
   "display_name": "Python 3",
   "language": "python",
   "name": "python3"
  },
  "language_info": {
   "codemirror_mode": {
    "name": "ipython",
    "version": 3
   },
   "file_extension": ".py",
   "mimetype": "text/x-python",
   "name": "python",
   "nbconvert_exporter": "python",
   "pygments_lexer": "ipython3",
   "version": "3.6.8"
  }
 },
 "nbformat": 4,
 "nbformat_minor": 2
}
